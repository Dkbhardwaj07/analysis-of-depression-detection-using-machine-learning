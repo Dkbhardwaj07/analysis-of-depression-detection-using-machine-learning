{
  "nbformat": 4,
  "nbformat_minor": 0,
  "metadata": {
    "colab": {
      "name": "old_models.ipynb",
      "provenance": []
    },
    "kernelspec": {
      "name": "python3",
      "display_name": "Python 3"
    },
    "language_info": {
      "name": "python"
    }
  },
  "cells": [
    {
      "cell_type": "markdown",
      "metadata": {
        "id": "3f6iAfwThyrt"
      },
      "source": [
        "This notebook contains Feature selection with Chi-Square test, Logistic Regression with TFIDF as well as Bidirectional LSTM with gensim to classifies a given tweet into depressive or non-depressive ones."
      ]
    },
    {
      "cell_type": "code",
      "metadata": {
        "colab": {
          "base_uri": "https://localhost:8080/"
        },
        "id": "3XjdfM4nfR94",
        "outputId": "67137860-dc12-4f51-8aac-93e2e141d73c"
      },
      "source": [
        "from google.colab import drive\n",
        "drive.mount('/content/drive')"
      ],
      "execution_count": 1,
      "outputs": [
        {
          "output_type": "stream",
          "name": "stdout",
          "text": [
            "Mounted at /content/drive\n"
          ]
        }
      ]
    },
    {
      "cell_type": "code",
      "metadata": {
        "id": "PXvVBOoJfYR5"
      },
      "source": [
        "## Import required libraries\n",
        "\n",
        "## warnings\n",
        "import warnings\n",
        "warnings.filterwarnings(\"ignore\")\n",
        "\n",
        "## for data\n",
        "import numpy as np\n",
        "import pandas as pd\n",
        "\n",
        "## for plotting\n",
        "import matplotlib.pyplot as plt\n",
        "import seaborn as sns\n",
        "\n",
        "## TF-IDF \n",
        "from sklearn.feature_extraction.text import TfidfVectorizer\n",
        "\n",
        "## T-Sne\n",
        "from yellowbrick.text import TSNEVisualizer\n",
        "from sklearn import manifold\n",
        "\n",
        "## Train-Test Split\n",
        "from sklearn.model_selection import train_test_split\n",
        "\n",
        "## Feature selection\n",
        "from sklearn import feature_selection\n",
        "\n",
        "## libraraies for classification\n",
        "from sklearn.pipeline import Pipeline\n",
        "import sklearn.metrics as skm\n",
        "from sklearn.metrics import confusion_matrix, accuracy_score\n",
        "from sklearn.linear_model import LogisticRegression\n",
        "from sklearn.neighbors import KNeighborsClassifier\n",
        "from sklearn.svm import SVC\n",
        "from sklearn.tree import DecisionTreeClassifier\n",
        "from sklearn.neural_network import MLPClassifier\n",
        "from sklearn.ensemble import RandomForestClassifier\n",
        "\n",
        "## for saving model\n",
        "import pickle\n",
        "\n",
        "## detokenization\n",
        "from nltk.tokenize.treebank import TreebankWordDetokenizer\n",
        "\n",
        "## for word embedding with gensim\n",
        "import gensim\n",
        "import gensim.downloader as gensim_api\n",
        "from gensim.models import Word2Vec\n",
        "from gensim.models import KeyedVectors\n",
        "from keras.preprocessing.text import Tokenizer\n",
        "from keras.preprocessing.sequence import pad_sequences\n",
        "\n",
        "## for word embedding with Spacy\n",
        "# import spacy\n",
        "# import en_core_web_lg\n",
        "\n",
        "## for deep learning\n",
        "from keras.models import load_model\n",
        "from keras.models import Model, Sequential\n",
        "from keras.callbacks import EarlyStopping, ModelCheckpoint\n",
        "from keras.layers import Conv1D, Dense, Input, LSTM, Embedding, Dropout, Activation, MaxPooling1D\n",
        "from tensorflow.keras import models, layers, preprocessing as kprocessing\n",
        "from tensorflow.keras import backend as K\n",
        "import tensorflow as tf\n",
        "import keras\n",
        "from keras.layers import Lambda\n",
        "import tensorflow as tf\n",
        "from keras.models import model_from_json\n",
        "\n",
        "## for bert language model\n",
        "#import transformers"
      ],
      "execution_count": 2,
      "outputs": []
    },
    {
      "cell_type": "markdown",
      "metadata": {
        "id": "qpKZPTJFf3ny"
      },
      "source": [
        "## Loading the dataset:"
      ]
    },
    {
      "cell_type": "code",
      "metadata": {
        "id": "aX_vtWbl5Yg2"
      },
      "source": [
        "df_all = pd.read_csv(\"/content/drive/MyDrive/NLP/Depression_Detection/data_cleaning/processed_data/processed_data.csv\",\n",
        "                     sep='\\t', encoding='utf-8')"
      ],
      "execution_count": null,
      "outputs": []
    },
    {
      "cell_type": "code",
      "metadata": {
        "colab": {
          "base_uri": "https://localhost:8080/",
          "height": 414
        },
        "id": "MK9pdUZL3qiE",
        "outputId": "595f7989-8c8b-4b47-9b0b-c57641810b36"
      },
      "source": [
        "df_all"
      ],
      "execution_count": null,
      "outputs": [
        {
          "output_type": "execute_result",
          "data": {
            "text/html": [
              "<div>\n",
              "<style scoped>\n",
              "    .dataframe tbody tr th:only-of-type {\n",
              "        vertical-align: middle;\n",
              "    }\n",
              "\n",
              "    .dataframe tbody tr th {\n",
              "        vertical-align: top;\n",
              "    }\n",
              "\n",
              "    .dataframe thead th {\n",
              "        text-align: right;\n",
              "    }\n",
              "</style>\n",
              "<table border=\"1\" class=\"dataframe\">\n",
              "  <thead>\n",
              "    <tr style=\"text-align: right;\">\n",
              "      <th></th>\n",
              "      <th>text</th>\n",
              "      <th>label</th>\n",
              "      <th>clean_text</th>\n",
              "    </tr>\n",
              "  </thead>\n",
              "  <tbody>\n",
              "    <tr>\n",
              "      <th>0</th>\n",
              "      <td>Open discussion. Between the Transfer Portal a...</td>\n",
              "      <td>1</td>\n",
              "      <td>open discussion transfer portal nil become obs...</td>\n",
              "    </tr>\n",
              "    <tr>\n",
              "      <th>1</th>\n",
              "      <td>Plenty of things are changing in my life and t...</td>\n",
              "      <td>1</td>\n",
              "      <td>plenty thing changing life life around one thi...</td>\n",
              "    </tr>\n",
              "    <tr>\n",
              "      <th>2</th>\n",
              "      <td>I feel a little hopeless. Anyone else? #hopele...</td>\n",
              "      <td>1</td>\n",
              "      <td>feel little hopeless anyone else</td>\n",
              "    </tr>\n",
              "    <tr>\n",
              "      <th>3</th>\n",
              "      <td>Which is more healthy? Hope, or hopelessness? ...</td>\n",
              "      <td>1</td>\n",
              "      <td>healthy hope hopelessness</td>\n",
              "    </tr>\n",
              "    <tr>\n",
              "      <th>4</th>\n",
              "      <td>So someone tell me how do I get over #HOPELESS...</td>\n",
              "      <td>1</td>\n",
              "      <td>someone tell get live world surrounded people ...</td>\n",
              "    </tr>\n",
              "    <tr>\n",
              "      <th>...</th>\n",
              "      <td>...</td>\n",
              "      <td>...</td>\n",
              "      <td>...</td>\n",
              "    </tr>\n",
              "    <tr>\n",
              "      <th>38904</th>\n",
              "      <td>@andreaj27 well, cheers. i have a glass of wat...</td>\n",
              "      <td>0</td>\n",
              "      <td>well cheer glass water handy drink cheer</td>\n",
              "    </tr>\n",
              "    <tr>\n",
              "      <th>38905</th>\n",
              "      <td>@AndreaJo84 Is that right? You're over in Palm...</td>\n",
              "      <td>0</td>\n",
              "      <td>right palm spring guess see local news still w...</td>\n",
              "    </tr>\n",
              "    <tr>\n",
              "      <th>38906</th>\n",
              "      <td>@AndreaKobayashi It's the best cafe in Asakusa...</td>\n",
              "      <td>0</td>\n",
              "      <td>best cafe asakusa tokyo small serf best coffee</td>\n",
              "    </tr>\n",
              "    <tr>\n",
              "      <th>38907</th>\n",
              "      <td>@AndreaKoeln heeey! tonight is the night! no s...</td>\n",
              "      <td>0</td>\n",
              "      <td>heeey tonight night sleeping like night loll</td>\n",
              "    </tr>\n",
              "    <tr>\n",
              "      <th>38908</th>\n",
              "      <td>@AmandaFClark it is when you add the hammock</td>\n",
              "      <td>0</td>\n",
              "      <td>add hammock</td>\n",
              "    </tr>\n",
              "  </tbody>\n",
              "</table>\n",
              "<p>38909 rows × 3 columns</p>\n",
              "</div>"
            ],
            "text/plain": [
              "                                                    text  ...                                         clean_text\n",
              "0      Open discussion. Between the Transfer Portal a...  ...  open discussion transfer portal nil become obs...\n",
              "1      Plenty of things are changing in my life and t...  ...  plenty thing changing life life around one thi...\n",
              "2      I feel a little hopeless. Anyone else? #hopele...  ...                   feel little hopeless anyone else\n",
              "3      Which is more healthy? Hope, or hopelessness? ...  ...                          healthy hope hopelessness\n",
              "4      So someone tell me how do I get over #HOPELESS...  ...  someone tell get live world surrounded people ...\n",
              "...                                                  ...  ...                                                ...\n",
              "38904  @andreaj27 well, cheers. i have a glass of wat...  ...           well cheer glass water handy drink cheer\n",
              "38905  @AndreaJo84 Is that right? You're over in Palm...  ...  right palm spring guess see local news still w...\n",
              "38906  @AndreaKobayashi It's the best cafe in Asakusa...  ...     best cafe asakusa tokyo small serf best coffee\n",
              "38907  @AndreaKoeln heeey! tonight is the night! no s...  ...       heeey tonight night sleeping like night loll\n",
              "38908      @AmandaFClark it is when you add the hammock   ...                                        add hammock\n",
              "\n",
              "[38909 rows x 3 columns]"
            ]
          },
          "metadata": {},
          "execution_count": 6
        }
      ]
    },
    {
      "cell_type": "markdown",
      "metadata": {
        "id": "zHvVfleWuo7k"
      },
      "source": [
        "## Feature selection"
      ]
    },
    {
      "cell_type": "markdown",
      "metadata": {
        "id": "JqqdpLCnursw"
      },
      "source": [
        "In order to drop some columns and reduce the matrix dimensionality, we can carry out some Feature Selection, the process of selecting a subset of relevant variables. I will proceed as follows:\n",
        "\n",
        "\n",
        "\n",
        "1.   treat each category as binary (for example, the “depressive” category is 1 for the depressive tweets and 0 for non_depressive);\n",
        "2.   perform a Chi-Square test to determine whether a feature and the (binary) target are independent;\n",
        "3.   keep only the features with a certain p-value from the Chi-Square test.\n",
        "\n",
        "This snippet of code is derived from https://towardsdatascience.com/text-classification-with-nlp-tf-idf-vs-word2vec-vs-bert-41ff868d1794\n",
        "\n"
      ]
    },
    {
      "cell_type": "code",
      "metadata": {
        "id": "W51dTw7qvNJO"
      },
      "source": [
        "y = y_train\n",
        "X_names = cv.get_feature_names()\n",
        "p_value_limit = 0.95\n",
        "df_features = pd.DataFrame()\n",
        "for cat in np.unique(y):\n",
        "    chi2, p = feature_selection.chi2(X_train_tfidf, y==cat)\n",
        "    df_features = df_features.append(pd.DataFrame(\n",
        "                   {\"feature\":X_names, \"score\":1-p, \"y\":cat}))\n",
        "    df_features = df_features.sort_values([\"y\",\"score\"], \n",
        "                    ascending=[True,False])\n",
        "    df_features = df_features[df_features[\"score\"]>p_value_limit]\n",
        "X_names = df_features[\"feature\"].unique().tolist()"
      ],
      "execution_count": null,
      "outputs": []
    },
    {
      "cell_type": "code",
      "metadata": {
        "colab": {
          "base_uri": "https://localhost:8080/"
        },
        "id": "TQMIsq_mxj0M",
        "outputId": "c2795532-6fb7-4885-b396-088c8bf73e78"
      },
      "source": [
        "print(len(X_names))"
      ],
      "execution_count": null,
      "outputs": [
        {
          "name": "stdout",
          "output_type": "stream",
          "text": [
            "688\n"
          ]
        }
      ]
    },
    {
      "cell_type": "markdown",
      "metadata": {
        "id": "b-THn1xTx1hL"
      },
      "source": [
        "I reduced the number of features from 20018 to 688 by keeping the most statistically relevant ones. Let’s print some:"
      ]
    },
    {
      "cell_type": "code",
      "metadata": {
        "colab": {
          "base_uri": "https://localhost:8080/"
        },
        "id": "LJPrTvc-x7W6",
        "outputId": "9331a9b8-97ad-4fba-eb26-b64d50e69f93"
      },
      "source": [
        "for cat in np.unique(y):\n",
        "   print(\"# {}:\".format(cat))\n",
        "   print(\"  . selected features:\",\n",
        "         len(df_features[df_features[\"y\"]==cat]))\n",
        "   print(\"  . top features:\", \",\".join(df_features[df_features[\"y\"]==cat][\"feature\"].values[:10]))\n",
        "   print(\" \")"
      ],
      "execution_count": null,
      "outputs": [
        {
          "name": "stdout",
          "output_type": "stream",
          "text": [
            "# 0:\n",
            "  . selected features: 688\n",
            "  . top features: anxiety,depression,health,http,mental,thanks,feel,feeling,lol,someone\n",
            " \n",
            "# 1:\n",
            "  . selected features: 688\n",
            "  . top features: anxiety,depression,health,http,mental,thanks,feel,feeling,lol,someone\n",
            " \n"
          ]
        }
      ]
    },
    {
      "cell_type": "markdown",
      "metadata": {
        "id": "p_4GhXL-EfZt"
      },
      "source": [
        "## Logistic Regression with TFIDF:"
      ]
    },
    {
      "cell_type": "markdown",
      "metadata": {
        "id": "oirCPQN__yxE"
      },
      "source": [
        "### Spliting data to train and test datasets:"
      ]
    },
    {
      "cell_type": "code",
      "metadata": {
        "id": "q0_TT04vVBV9"
      },
      "source": [
        "## split dataset to train and test\n",
        "X_train, X_test, y_train, y_test = train_test_split(df_all['clean_text'], df_all['label'], test_size=0.3, random_state= 42)"
      ],
      "execution_count": null,
      "outputs": []
    },
    {
      "cell_type": "code",
      "metadata": {
        "colab": {
          "base_uri": "https://localhost:8080/"
        },
        "id": "v15rT6tkBMUy",
        "outputId": "7057c0eb-73e3-48f0-d3a0-922229c2da1e"
      },
      "source": [
        "X_train.shape, X_test.shape, y_train.shape, y_test.shape"
      ],
      "execution_count": null,
      "outputs": [
        {
          "data": {
            "text/plain": [
              "((16464,), (7056,), (16464,), (7056,))"
            ]
          },
          "execution_count": 25,
          "metadata": {},
          "output_type": "execute_result"
        }
      ]
    },
    {
      "cell_type": "markdown",
      "metadata": {
        "id": "D7qEAvQ3lT_D"
      },
      "source": [
        "### TF-IDF "
      ]
    },
    {
      "cell_type": "markdown",
      "metadata": {
        "id": "Mc7ubpZusnAC"
      },
      "source": [
        "TF-IDF (term frequency and inverse document frequency):"
      ]
    },
    {
      "cell_type": "code",
      "metadata": {
        "id": "ovtG479XaWK-"
      },
      "source": [
        "## Creating the TF-IDF model\n",
        "cv = TfidfVectorizer()\n",
        "cv.fit(X_train.to_list())\n",
        "dic_vocabulary = cv.vocabulary_"
      ],
      "execution_count": null,
      "outputs": []
    },
    {
      "cell_type": "code",
      "metadata": {
        "id": "DTrt7NCkdldl"
      },
      "source": [
        "X_train_tfidf = cv.transform(X_train.to_list())"
      ],
      "execution_count": null,
      "outputs": []
    },
    {
      "cell_type": "code",
      "metadata": {
        "id": "TUOfVJOJa9gD"
      },
      "source": [
        "X_test_tfidf = cv.transform(X_test.to_list())"
      ],
      "execution_count": null,
      "outputs": []
    },
    {
      "cell_type": "code",
      "metadata": {
        "colab": {
          "base_uri": "https://localhost:8080/"
        },
        "id": "rlVMaTC7bePM",
        "outputId": "1bfd97b2-4f8c-4b60-da6d-f4c0f04d8e2d"
      },
      "source": [
        "cv.inverse_transform(X_test_tfidf[0])"
      ],
      "execution_count": null,
      "outputs": [
        {
          "data": {
            "text/plain": [
              "[array(['much', 'love', 'idol', 'guy'], dtype='<U62')]"
            ]
          },
          "execution_count": 29,
          "metadata": {},
          "output_type": "execute_result"
        }
      ]
    },
    {
      "cell_type": "code",
      "metadata": {
        "colab": {
          "base_uri": "https://localhost:8080/"
        },
        "id": "DAsZUGSt65kt",
        "outputId": "14206604-7906-4e21-e409-126ef9459314"
      },
      "source": [
        "X_train_tfidf.shape"
      ],
      "execution_count": null,
      "outputs": [
        {
          "data": {
            "text/plain": [
              "(16464, 20018)"
            ]
          },
          "execution_count": 36,
          "metadata": {},
          "output_type": "execute_result"
        }
      ]
    },
    {
      "cell_type": "code",
      "metadata": {
        "id": "Rvn4WefSq965"
      },
      "source": [
        "# ## Adding clean tweets to a list called corpus\n",
        "# corpus = []\n",
        "# corpus = [x for x in df_train['clean_text']] \n",
        "# # corpus = df_train[\"clean_text\"]"
      ],
      "execution_count": null,
      "outputs": []
    },
    {
      "cell_type": "markdown",
      "metadata": {
        "id": "_8dEKxXc62Kv"
      },
      "source": [
        "The feature matrix X_train_tfidf has a shape of 16,464 (Number of documents in training) x 20018 (Length of vocabulary) and it’s pretty sparse:"
      ]
    },
    {
      "cell_type": "code",
      "metadata": {
        "colab": {
          "base_uri": "https://localhost:8080/",
          "height": 380
        },
        "id": "qfJq3sYfsez-",
        "outputId": "984bc129-ef8d-4101-cef6-17c5cc170318"
      },
      "source": [
        "sns.heatmap(X_train_tfidf.todense()[:,np.random.randint(0,X_train_tfidf.shape[1],100)]==0, vmin=0, vmax=1, cbar=False).set_title('Sparse Matrix Sample')"
      ],
      "execution_count": null,
      "outputs": [
        {
          "data": {
            "text/plain": [
              "Text(0.5, 1.0, 'Sparse Matrix Sample')"
            ]
          },
          "execution_count": 31,
          "metadata": {},
          "output_type": "execute_result"
        },
        {
          "data": {
            "image/png": "[encoded data removed]",
            "text/plain": [
              "<Figure size 576x396 with 1 Axes>"
            ]
          },
          "metadata": {},
          "output_type": "display_data"
        }
      ]
    },
    {
      "cell_type": "markdown",
      "metadata": {
        "id": "mFOGDzZ8sbVN"
      },
      "source": [
        "In order to know the position of a certain word, we can look it up in the vocabulary:"
      ]
    },
    {
      "cell_type": "code",
      "metadata": {
        "colab": {
          "base_uri": "https://localhost:8080/"
        },
        "id": "mNbUdw0uZj0g",
        "outputId": "b428dd95-908e-4c17-aeda-eef4a039f092"
      },
      "source": [
        "word = \"mental\"\n",
        "dic_vocabulary[word]"
      ],
      "execution_count": null,
      "outputs": [
        {
          "data": {
            "text/plain": [
              "11357"
            ]
          },
          "execution_count": 32,
          "metadata": {},
          "output_type": "execute_result"
        }
      ]
    },
    {
      "cell_type": "markdown",
      "metadata": {
        "id": "HXK2MEEH5zJq"
      },
      "source": [
        "Build a scikit-learn pipeline: a sequential application of a list of transformations and a final estimator. Putting the Tf-Idf vectorizer and Logistic Regression classifier in a pipeline allows us to transform and predict test data in just one step."
      ]
    },
    {
      "cell_type": "code",
      "metadata": {
        "id": "mKygPsiJ6BXh"
      },
      "source": [
        "# classifier = LogisticRegression(solver='liblinear', penalty='l1')"
      ],
      "execution_count": null,
      "outputs": []
    },
    {
      "cell_type": "code",
      "metadata": {
        "id": "Lbs_T0ck59GQ"
      },
      "source": [
        "# ## pipeline\n",
        "# model = Pipeline([(\"vectorizer\", cv), \n",
        "#                   (\"classifier\", classifier)])\n",
        "# ## train classifier\n",
        "# model[\"classifier\"].fit(X_train, y_train)\n",
        "# ## test\n",
        "# predicted = model.predict(X_test)\n",
        "# predicted_prob = model.predict_proba(X_test)"
      ],
      "execution_count": null,
      "outputs": []
    },
    {
      "cell_type": "code",
      "metadata": {
        "colab": {
          "base_uri": "https://localhost:8080/"
        },
        "id": "-92oGPOYJ5Hz",
        "outputId": "4d8c5c50-e7e2-4c3f-b592-b2b2b9246fd4"
      },
      "source": [
        "# ## creating the instance of the models\n",
        "lr = LogisticRegression(solver='liblinear', penalty='l1')\n",
        "## fitting the model\n",
        "print(lr.fit(X_train_tfidf, y_train.to_list()))"
      ],
      "execution_count": null,
      "outputs": [
        {
          "name": "stdout",
          "output_type": "stream",
          "text": [
            "LogisticRegression(C=1.0, class_weight=None, dual=False, fit_intercept=True,\n",
            "                   intercept_scaling=1, l1_ratio=None, max_iter=100,\n",
            "                   multi_class='auto', n_jobs=None, penalty='l1',\n",
            "                   random_state=None, solver='liblinear', tol=0.0001, verbose=0,\n",
            "                   warm_start=False)\n"
          ]
        }
      ]
    },
    {
      "cell_type": "code",
      "metadata": {
        "id": "QqHLwpCnzVw-"
      },
      "source": [
        "## Save the Modle to file in the current working directory\n",
        "LogisticReg = \"/content/drive/MyDrive/NLP/Depression_Detection/modeling/model_LogReg.pkl\"  \n",
        "\n",
        "with open(LogisticReg, 'wb') as file:  \n",
        "    pickle.dump(lr, file)"
      ],
      "execution_count": null,
      "outputs": []
    },
    {
      "cell_type": "code",
      "metadata": {
        "colab": {
          "base_uri": "https://localhost:8080/"
        },
        "id": "MfZcNLzm0fAu",
        "outputId": "dc15274e-7f42-4f3a-b3d3-908cb5de28d1"
      },
      "source": [
        "## Load the Model back from file\n",
        "with open(LogisticReg, 'rb') as file:  \n",
        "    lr = pickle.load(file)\n",
        "\n",
        "lr"
      ],
      "execution_count": null,
      "outputs": [
        {
          "data": {
            "text/plain": [
              "LogisticRegression(C=1.0, class_weight=None, dual=False, fit_intercept=True,\n",
              "                   intercept_scaling=1, l1_ratio=None, max_iter=100,\n",
              "                   multi_class='auto', n_jobs=None, penalty='l1',\n",
              "                   random_state=None, solver='liblinear', tol=0.0001, verbose=0,\n",
              "                   warm_start=False)"
            ]
          },
          "execution_count": 42,
          "metadata": {},
          "output_type": "execute_result"
        }
      ]
    },
    {
      "cell_type": "code",
      "metadata": {
        "id": "mnXaPLNOKLmo"
      },
      "source": [
        "## Test\n",
        "y_pred_lr = lr.predict(X_test_tfidf)\n",
        "probs = lr.predict_proba(X_test_tfidf)\n",
        "classes = np.unique(y_test.to_list())\n",
        "y_test_array = pd.get_dummies(y_test, drop_first=False).values"
      ],
      "execution_count": null,
      "outputs": []
    },
    {
      "cell_type": "markdown",
      "metadata": {
        "id": "iB73YuVi55HQ"
      },
      "source": [
        "## Evaluate the performance:"
      ]
    },
    {
      "cell_type": "markdown",
      "metadata": {
        "id": "APQx6jEQ6R9_"
      },
      "source": [
        "*   **Accuracy:** the fraction of predictions the model got right.\n",
        "*   **Confusion Matrix:** a summary table that breaks down the number of correct and incorrect predictions by each class.\n",
        "*   **ROC:** a plot that illustrates the true positive rate against the false positive rate at various threshold settings. The area under the curve (AUC) indicates the probability that the classifier will rank a randomly chosen positive observation higher than a randomly chosen negative one.\n",
        "*  **Precision:** the fraction of relevant instances among the retrieved instances.\n",
        "*  **Recall:** the fraction of the total amount of relevant instances that were actually retrieved.\n",
        "\n"
      ]
    },
    {
      "cell_type": "code",
      "metadata": {
        "id": "gcBQDboiJ-ht"
      },
      "source": [
        "def conf_matrix_acc(y_true, y_pred):\n",
        "  ## Plot confusion matrix\n",
        "  cm = confusion_matrix(y_true, y_pred)\n",
        "  fig, ax = plt.subplots()\n",
        "  sns.heatmap(cm, annot=True, fmt='d', ax=ax, cmap=plt.cm.Blues, \n",
        "            cbar=False)\n",
        "  ax.set(xlabel=\"Pred\", ylabel=\"True\", xticklabels=classes, \n",
        "       yticklabels=classes, title=\"Confusion matrix\")\n",
        "  plt.yticks(rotation=0)\n",
        "  print(\"=========================================\")\n",
        "  print(f'Accuracy score is : {accuracy_score(y_true, y_pred)}')\n",
        "  print(\"=========================================\")\n",
        "  print(\"Detail:\")\n",
        "  print(skm.classification_report(y_true, y_pred))"
      ],
      "execution_count": null,
      "outputs": []
    },
    {
      "cell_type": "code",
      "metadata": {
        "id": "0boGWGiH1aw9"
      },
      "source": [
        "## Plot ROC and precision-recall curve\n",
        "def roc_precision_auc():\n",
        "  fig, ax = plt.subplots(nrows=1, ncols=2)\n",
        "  ## Plot roc\n",
        "  for i in range(len(classes)):\n",
        "      fpr, tpr, thresholds = skm.roc_curve(y_test_array[:,i],  \n",
        "                            probs[:,i])\n",
        "      ax[0].plot(fpr, tpr, lw=3, \n",
        "                label='{0} (area={1:0.2f})'.format(classes[i], \n",
        "                                skm.auc(fpr, tpr))\n",
        "                 )\n",
        "  ax[0].plot([0,1], [0,1], color='navy', lw=3, linestyle='--')\n",
        "  ax[0].set(xlim=[-0.05,1.0], ylim=[0.0,1.05], \n",
        "            xlabel='False Positive Rate', \n",
        "            ylabel=\"True Positive Rate (Recall)\", \n",
        "            title=\"Receiver operating characteristic\")\n",
        "  ax[0].legend(loc=\"lower right\")\n",
        "  ax[0].grid(True)\n",
        "\n",
        "  ## Plot precision-recall curve\n",
        "  for i in range(len(classes)):\n",
        "    precision, recall, thresholds = skm.precision_recall_curve(\n",
        "                y_test_array[:,i], probs[:,i])\n",
        "    ax[1].plot(recall, precision, lw=3, \n",
        "               label='{0} (area={1:0.2f})'.format(classes[i], \n",
        "                                  skm.auc(recall, precision))\n",
        "              )\n",
        "  ax[1].set(xlim=[0.0,1.05], ylim=[0.0,1.05], xlabel='Recall', \n",
        "            ylabel=\"Precision\", title=\"Precision-Recall curve\")\n",
        "  ax[1].legend(loc=\"best\")\n",
        "  ax[1].grid(True)\n",
        "  plt.show()\n",
        "  #plt.savefig('/content/drive/MyDrive/NLP/Depression_Detection/modeling/ROC_Precision_LR.png')\n",
        "  plt.savefig('/content/drive/MyDrive/NLP/Depression_Detection/modeling/ROC_Precision_SVM.png')  \n",
        "  ## AUC score\n",
        "  print(f'AUC score is : {skm.roc_auc_score(Y_test, probs[:,1])}')"
      ],
      "execution_count": null,
      "outputs": []
    },
    {
      "cell_type": "code",
      "metadata": {
        "colab": {
          "base_uri": "https://localhost:8080/",
          "height": 606
        },
        "id": "-ZNJKU5TKQmq",
        "outputId": "36f12f5d-6eb9-4aa6-a379-d9fd3e6a922c"
      },
      "source": [
        "conf_matrix_acc(y_test.to_list(),y_pred_lr)"
      ],
      "execution_count": null,
      "outputs": [
        {
          "name": "stdout",
          "output_type": "stream",
          "text": [
            "=========================================\n",
            "Accuracy score is : 0.8360260770975056\n",
            "=========================================\n",
            "Detail:\n",
            "              precision    recall  f1-score   support\n",
            "\n",
            "           0       0.82      0.87      0.85      3627\n",
            "           1       0.85      0.80      0.83      3429\n",
            "\n",
            "    accuracy                           0.84      7056\n",
            "   macro avg       0.84      0.84      0.84      7056\n",
            "weighted avg       0.84      0.84      0.84      7056\n",
            "\n"
          ]
        },
        {
          "data": {
            "image/png": "[encoded data removed]",
            "text/plain": [
              "<Figure size 576x396 with 1 Axes>"
            ]
          },
          "metadata": {},
          "output_type": "display_data"
        }
      ]
    },
    {
      "cell_type": "code",
      "metadata": {
        "colab": {
          "base_uri": "https://localhost:8080/",
          "height": 393
        },
        "id": "kcLZZr063v-6",
        "outputId": "ce67f3ab-2906-4ce6-a9d8-7d42e8febc6d"
      },
      "source": [
        "roc_precision_auc()"
      ],
      "execution_count": null,
      "outputs": [
        {
          "data": {
            "image/png": "[encoded data removed]",
            "text/plain": [
              "<Figure size 576x396 with 2 Axes>"
            ]
          },
          "metadata": {},
          "output_type": "display_data"
        },
        {
          "name": "stdout",
          "output_type": "stream",
          "text": [
            "AUC score is : 0.9160498973103044\n"
          ]
        }
      ]
    },
    {
      "cell_type": "code",
      "metadata": {
        "id": "slA1pY4HhR2m"
      },
      "source": [
        ""
      ],
      "execution_count": null,
      "outputs": []
    },
    {
      "cell_type": "markdown",
      "metadata": {
        "id": "VR5ol2rAjwSi"
      },
      "source": [
        "## Bidirectional LSTM:"
      ]
    },
    {
      "cell_type": "markdown",
      "metadata": {
        "id": "rDOP_ZhIVgEg"
      },
      "source": [
        "In Python, you can load a pre-trained Word Embedding model from genism-data like this:\n"
      ]
    },
    {
      "cell_type": "code",
      "metadata": {
        "colab": {
          "base_uri": "https://localhost:8080/"
        },
        "id": "Vo-xrNvDOHdQ",
        "outputId": "eaf7bbb7-c1cf-4c43-c834-c576f350fe8c"
      },
      "source": [
        "nlp_pre = gensim_api.load(\"word2vec-google-news-300\")"
      ],
      "execution_count": null,
      "outputs": [
        {
          "name": "stdout",
          "output_type": "stream",
          "text": [
            "[==================================================] 100.0% 1662.8/1662.8MB downloaded\n"
          ]
        }
      ]
    },
    {
      "cell_type": "code",
      "metadata": {
        "colab": {
          "base_uri": "https://localhost:8080/",
          "height": 330
        },
        "id": "abjuQT-CYYNQ",
        "outputId": "0679d3a4-f3f2-4bd4-8424-53b753fccfbd"
      },
      "source": [
        "word = \"anxiety\"\n",
        "fig = plt.figure()\n",
        "## word embedding\n",
        "tot_words = [word] + [tupla[0] for tupla in \n",
        "                 nlp_pre.most_similar(word, topn=20)]\n",
        "X = nlp_pre[tot_words]\n",
        "## pca to reduce dimensionality from 300 to 3\n",
        "pca = manifold.TSNE(perplexity=40, n_components=3, init='pca')\n",
        "X = pca.fit_transform(X)\n",
        "## create dtf\n",
        "dtf_ = pd.DataFrame(X, index=tot_words, columns=[\"x\",\"y\",\"z\"])\n",
        "dtf_[\"input\"] = 0\n",
        "dtf_[\"input\"].iloc[0:1] = 1\n",
        "## plot 3d\n",
        "from mpl_toolkits.mplot3d import Axes3D\n",
        "ax = fig.add_subplot(111, projection='3d')\n",
        "ax.scatter(dtf_[dtf_[\"input\"]==0]['x'], \n",
        "           dtf_[dtf_[\"input\"]==0]['y'], \n",
        "           dtf_[dtf_[\"input\"]==0]['z'], c=\"black\")\n",
        "ax.scatter(dtf_[dtf_[\"input\"]==1]['x'], \n",
        "           dtf_[dtf_[\"input\"]==1]['y'], \n",
        "           dtf_[dtf_[\"input\"]==1]['z'], c=\"red\")\n",
        "ax.set(xlabel=None, ylabel=None, zlabel=None, xticklabels=[], \n",
        "       yticklabels=[], zticklabels=[])\n",
        "for label, row in dtf_[[\"x\",\"y\",\"z\"]].iterrows():\n",
        "    x, y, z = row\n",
        "    ax.text(x, y, z, s=label)"
      ],
      "execution_count": null,
      "outputs": [
        {
          "data": {
            "image/png": "[encoded data removed]",
            "text/plain": [
              "<Figure size 576x396 with 1 Axes>"
            ]
          },
          "metadata": {},
          "output_type": "display_data"
        }
      ]
    },
    {
      "cell_type": "markdown",
      "metadata": {
        "id": "khJFVe8aVbQv"
      },
      "source": [
        "Instead of using a pre-trained model, I am going to fit my own Word2Vec on the training data corpus with gensim. Before fitting the model, the corpus needs to be transformed into a list of lists of n-grams. In this particular case, I’ll try to capture unigrams (“york”), bigrams (“new york”), and trigrams (“new york city”)."
      ]
    },
    {
      "cell_type": "code",
      "metadata": {
        "id": "lpJI5ZeVO2hx"
      },
      "source": [
        "## split dataset\n",
        "dtf_train, dtf_test = train_test_split(df_all, test_size=0.3)\n",
        "## get target\n",
        "y_train = dtf_train[\"label\"].values\n",
        "y_test = dtf_test[\"label\"].values"
      ],
      "execution_count": null,
      "outputs": []
    },
    {
      "cell_type": "code",
      "metadata": {
        "id": "rDnjIYFqRpBU"
      },
      "source": [
        "corpus = []\n",
        "corpus = [x for x in dtf_train['clean_text']]"
      ],
      "execution_count": null,
      "outputs": []
    },
    {
      "cell_type": "code",
      "metadata": {
        "id": "LtUHjkPSPIkM"
      },
      "source": [
        "## create list of lists of unigrams\n",
        "lst_corpus = []\n",
        "for string in corpus:\n",
        "   lst_words = str(string).split()\n",
        "   lst_grams = [\" \".join(lst_words[i:i+1]) \n",
        "               for i in range(0, len(lst_words), 1)]\n",
        "   lst_corpus.append(lst_grams)\n",
        "\n",
        "## detect bigrams and trigrams\n",
        "bigrams_detector = gensim.models.phrases.Phrases(lst_corpus, \n",
        "                 delimiter=\" \".encode(), min_count=5, threshold=10)\n",
        "bigrams_detector = gensim.models.phrases.Phraser(bigrams_detector)\n",
        "trigrams_detector = gensim.models.phrases.Phrases(bigrams_detector[lst_corpus], \n",
        "            delimiter=\" \".encode(), min_count=5, threshold=10)\n",
        "trigrams_detector = gensim.models.phrases.Phraser(trigrams_detector)"
      ],
      "execution_count": null,
      "outputs": []
    },
    {
      "cell_type": "markdown",
      "metadata": {
        "id": "dsRd35EbVqGI"
      },
      "source": [
        "When fitting the Word2Vec, you need to specify:\n",
        "\n",
        "* the target size of the word vectors, I’ll use 300;\n",
        "* the window, or the maximum distance between the current and predicted word within a sentence, I’ll use the mean length of text in the corpus;\n",
        "* the training algorithm, I’ll use skip-grams (sg=1) as in general it has better results."
      ]
    },
    {
      "cell_type": "code",
      "metadata": {
        "id": "rPDZRPUsVFqW"
      },
      "source": [
        "## fit w2v\n",
        "nlp = gensim.models.word2vec.Word2Vec(lst_corpus, size=300,   \n",
        "            window=8, min_count=1, sg=1, iter=30)"
      ],
      "execution_count": null,
      "outputs": []
    },
    {
      "cell_type": "markdown",
      "metadata": {
        "id": "ssOZmUWgWIlZ"
      },
      "source": [
        "We have our embedding model, so we can select any word from the corpus and transform it into a vector."
      ]
    },
    {
      "cell_type": "code",
      "metadata": {
        "colab": {
          "base_uri": "https://localhost:8080/"
        },
        "id": "AOYNw3k0WKfF",
        "outputId": "5070c094-c928-4f95-fa8c-0b0e3ff068ae"
      },
      "source": [
        "word = \"anxiety\"\n",
        "nlp[word].shape"
      ],
      "execution_count": null,
      "outputs": [
        {
          "data": {
            "text/plain": [
              "(300,)"
            ]
          },
          "execution_count": 95,
          "metadata": {},
          "output_type": "execute_result"
        }
      ]
    },
    {
      "cell_type": "markdown",
      "metadata": {
        "id": "pY9hAxiiWTFC"
      },
      "source": [
        "We can even use it to visualize a word and its context into a smaller dimensional space (2D or 3D) by applying any dimensionality reduction algorithm (i.e. TSNE)."
      ]
    },
    {
      "cell_type": "code",
      "metadata": {
        "colab": {
          "base_uri": "https://localhost:8080/",
          "height": 330
        },
        "id": "GcMipgM2WKhq",
        "outputId": "2a15164b-6d2a-41b2-d1fe-2b0bc1b51a22"
      },
      "source": [
        "word = \"anxiety\"\n",
        "fig = plt.figure()\n",
        "## word embedding\n",
        "tot_words = [word] + [tupla[0] for tupla in \n",
        "                 nlp.most_similar(word, topn=20)]\n",
        "X = nlp[tot_words]\n",
        "## pca to reduce dimensionality from 300 to 3\n",
        "pca = manifold.TSNE(perplexity=40, n_components=3, init='pca')\n",
        "X = pca.fit_transform(X)\n",
        "## create dtf\n",
        "dtf_ = pd.DataFrame(X, index=tot_words, columns=[\"x\",\"y\",\"z\"])\n",
        "dtf_[\"input\"] = 0\n",
        "dtf_[\"input\"].iloc[0:1] = 1\n",
        "## plot 3d\n",
        "from mpl_toolkits.mplot3d import Axes3D\n",
        "ax = fig.add_subplot(111, projection='3d')\n",
        "ax.scatter(dtf_[dtf_[\"input\"]==0]['x'], \n",
        "           dtf_[dtf_[\"input\"]==0]['y'], \n",
        "           dtf_[dtf_[\"input\"]==0]['z'], c=\"black\")\n",
        "ax.scatter(dtf_[dtf_[\"input\"]==1]['x'], \n",
        "           dtf_[dtf_[\"input\"]==1]['y'], \n",
        "           dtf_[dtf_[\"input\"]==1]['z'], c=\"red\")\n",
        "ax.set(xlabel=None, ylabel=None, zlabel=None, xticklabels=[], \n",
        "       yticklabels=[], zticklabels=[])\n",
        "for label, row in dtf_[[\"x\",\"y\",\"z\"]].iterrows():\n",
        "    x, y, z = row\n",
        "    ax.text(x, y, z, s=label)"
      ],
      "execution_count": null,
      "outputs": [
        {
          "data": {
            "image/png": "[encoded data removed]",
            "text/plain": [
              "<Figure size 576x396 with 1 Axes>"
            ]
          },
          "metadata": {},
          "output_type": "display_data"
        }
      ]
    },
    {
      "cell_type": "markdown",
      "metadata": {
        "id": "fc7GzRh_ZddU"
      },
      "source": [
        "The word vectors can be used in a neural network as weights in the follwing procedure:\n",
        "1. Transform the corpus into padded sequences of word ids to get a feature matrix.\n",
        "2. Create an embedding matrix so that the vector of the word with id N is located at the Nth row.\n",
        "3. Build a neural network with an embedding layer that weighs every word in the sequences with the corresponding vector."
      ]
    },
    {
      "cell_type": "markdown",
      "metadata": {
        "id": "HEXQqIqcgnOr"
      },
      "source": [
        "**Feature Engineering:** by transforming the same preprocessed corpus (list of lists of n-grams) given to the Word2Vec into a list of sequences using tensorflow/keras:"
      ]
    },
    {
      "cell_type": "code",
      "metadata": {
        "id": "NHY3xdFYWKkd"
      },
      "source": [
        "## tokenize text\n",
        "tokenizer = kprocessing.text.Tokenizer(lower=True, split=' ', \n",
        "                     oov_token=\"NaN\", \n",
        "                     filters='!\"#$%&()*+,-./:;<=>?@[\\\\]^_`{|}~\\t\\n')\n",
        "tokenizer.fit_on_texts(lst_corpus)\n",
        "dic_vocabulary = tokenizer.word_index\n",
        "\n",
        "## create sequence\n",
        "lst_text2seq= tokenizer.texts_to_sequences(lst_corpus)\n",
        "\n",
        "## padding sequence\n",
        "X_train = kprocessing.sequence.pad_sequences(lst_text2seq, \n",
        "                    maxlen=35, padding=\"post\", truncating=\"post\")"
      ],
      "execution_count": null,
      "outputs": []
    },
    {
      "cell_type": "code",
      "metadata": {
        "colab": {
          "base_uri": "https://localhost:8080/"
        },
        "id": "5uMF9_b6WKnJ",
        "outputId": "b7b4b032-56e2-4985-dc62-82efa8ac1fbf"
      },
      "source": [
        "X_train.shape"
      ],
      "execution_count": null,
      "outputs": [
        {
          "data": {
            "text/plain": [
              "(16559, 35)"
            ]
          },
          "execution_count": 14,
          "metadata": {},
          "output_type": "execute_result"
        }
      ]
    },
    {
      "cell_type": "markdown",
      "metadata": {
        "id": "TReVOVLakTxO"
      },
      "source": [
        "The feature matrix X_train has a shape of 16559 x 35 (Number of sequences x Sequences max length). Let’s visualize it:"
      ]
    },
    {
      "cell_type": "code",
      "metadata": {
        "colab": {
          "base_uri": "https://localhost:8080/",
          "height": 352
        },
        "id": "yj3TK-lwWKpv",
        "outputId": "4cdd2399-e7f1-4ccd-dc45-af50d5b44518"
      },
      "source": [
        "sns.heatmap(X_train==0, vmin=0, vmax=1, cbar=False)\n",
        "plt.show()"
      ],
      "execution_count": null,
      "outputs": [
        {
          "data": {
            "image/png": "[encoded data removed]",
            "text/plain": [
              "<Figure size 576x396 with 1 Axes>"
            ]
          },
          "metadata": {},
          "output_type": "display_data"
        }
      ]
    },
    {
      "cell_type": "markdown",
      "metadata": {
        "id": "bN9FeuqukxKm"
      },
      "source": [
        "Every text in the corpus is now an id sequence with length 35. For instance, if a text had 20 tokens in it, then the sequence is composed of 20 ids + 15 0s, which is the padding element (while the id for word not in the vocabulary is 1)"
      ]
    },
    {
      "cell_type": "markdown",
      "metadata": {
        "id": "fskqeYr9m-yH"
      },
      "source": [
        "Let’s print how a text from the train set has been transformed into a sequence with the padding and the vocabulary."
      ]
    },
    {
      "cell_type": "code",
      "metadata": {
        "colab": {
          "base_uri": "https://localhost:8080/"
        },
        "id": "iLkLVV9ZWKso",
        "outputId": "2c6f7c1b-e956-4491-ca16-48aacb94be84"
      },
      "source": [
        "i = 8\n",
        "\n",
        "## list of text: [\"I like this\", ...]\n",
        "len_txt = len(dtf_train[\"clean_text\"].iloc[i].split())\n",
        "print(\"from: \", dtf_train[\"clean_text\"].iloc[i], \"| len:\", len_txt)\n",
        "\n",
        "## sequence of token ids: [[1, 2, 3], ...]\n",
        "len_tokens = len(X_train[i])\n",
        "print(\"to: \", X_train[i], \"| len:\", len(X_train[i]))\n",
        "\n",
        "## vocabulary: {\"I\":1, \"like\":2, \"this\":3, ...}\n",
        "print(\"check: \", dtf_train[\"clean_text\"].iloc[i].split()[0], \n",
        "      \" -- idx in vocabulary -->\", \n",
        "      dic_vocabulary[dtf_train[\"clean_text\"].iloc[i].split()[0]])\n",
        "\n",
        "print(\"vocabulary: \", dict(list(dic_vocabulary.items())[0:5]), \"... (padding element, 0)\")"
      ],
      "execution_count": null,
      "outputs": [
        {
          "name": "stdout",
          "output_type": "stream",
          "text": [
            "from:  start support thread comment feeling let u support hate rn want die one care cope long | len: 16\n",
            "to:  [  76  114 1330  459   32   46    9  114  128  983   19  349    5   60\n",
            "  870  115    0    0    0    0    0    0    0    0    0    0    0    0\n",
            "    0    0    0    0    0    0    0] | len: 35\n",
            "check:  start  -- idx in vocabulary --> 76\n",
            "vocabulary:  {'NaN': 1, 'like': 2, 'day': 3, 'love': 4, 'one': 5} ... (padding element, 0)\n"
          ]
        }
      ]
    },
    {
      "cell_type": "code",
      "metadata": {
        "id": "KMV0FcvtWKu-"
      },
      "source": [
        "corpus = dtf_test[\"clean_text\"]\n",
        "\n",
        "## create list of n-grams\n",
        "lst_corpus = []\n",
        "for string in corpus:\n",
        "    lst_words = str(string).split()\n",
        "    lst_grams = [\" \".join(lst_words[i:i+1]) for i in range(0, \n",
        "                 len(lst_words), 1)]\n",
        "    lst_corpus.append(lst_grams)\n",
        "    \n",
        "## detect common bigrams and trigrams using the fitted detectors\n",
        "lst_corpus = list(bigrams_detector[lst_corpus])\n",
        "lst_corpus = list(trigrams_detector[lst_corpus])\n",
        "## text to sequence with the fitted tokenizer\n",
        "lst_text2seq = tokenizer.texts_to_sequences(lst_corpus)\n",
        "\n",
        "## padding sequence\n",
        "X_test = kprocessing.sequence.pad_sequences(lst_text2seq, maxlen=35,\n",
        "             padding=\"post\", truncating=\"post\")"
      ],
      "execution_count": null,
      "outputs": []
    },
    {
      "cell_type": "code",
      "metadata": {
        "colab": {
          "base_uri": "https://localhost:8080/"
        },
        "id": "5b_8kegvQLwI",
        "outputId": "da2389ee-17f3-4b95-9d64-a23affc5721b"
      },
      "source": [
        "X_test.shape"
      ],
      "execution_count": null,
      "outputs": [
        {
          "data": {
            "text/plain": [
              "(7097, 35)"
            ]
          },
          "execution_count": 17,
          "metadata": {},
          "output_type": "execute_result"
        }
      ]
    },
    {
      "cell_type": "code",
      "metadata": {
        "colab": {
          "base_uri": "https://localhost:8080/",
          "height": 352
        },
        "id": "FXSabjJgQOEq",
        "outputId": "e6a18e94-c31c-414c-a185-927199c7aa6e"
      },
      "source": [
        "sns.heatmap(X_test==0, vmin=0, vmax=1, cbar=False)\n",
        "plt.show()"
      ],
      "execution_count": null,
      "outputs": [
        {
          "data": {
            "image/png": "[encoded data removed]",
            "text/plain": [
              "<Figure size 576x396 with 1 Axes>"
            ]
          },
          "metadata": {},
          "output_type": "display_data"
        }
      ]
    },
    {
      "cell_type": "markdown",
      "metadata": {
        "id": "nwYAWkETTjRp"
      },
      "source": [
        "We’ve got our X_train and X_test, now we need to create the embedding matrix that will be used as a weight matrix in the neural network."
      ]
    },
    {
      "cell_type": "code",
      "metadata": {
        "id": "j-C_OTA0QXBr"
      },
      "source": [
        "## start the matrix (length of vocabulary x vector size) with all 0s\n",
        "embeddings = np.zeros((len(dic_vocabulary)+1, 300))\n",
        "for word,idx in dic_vocabulary.items():\n",
        "    ## update the row with vector\n",
        "    try:\n",
        "        embeddings[idx] =  nlp[word]\n",
        "    ## if word not in model then skip and the row stays all 0s\n",
        "    except:\n",
        "        pass"
      ],
      "execution_count": null,
      "outputs": []
    },
    {
      "cell_type": "code",
      "metadata": {
        "colab": {
          "base_uri": "https://localhost:8080/"
        },
        "id": "HoxwJGgDT1Xt",
        "outputId": "07c52748-c4b8-47dd-c6a2-2b4cd61cb247"
      },
      "source": [
        "embeddings.shape"
      ],
      "execution_count": null,
      "outputs": [
        {
          "data": {
            "text/plain": [
              "(20151, 300)"
            ]
          },
          "execution_count": 20,
          "metadata": {},
          "output_type": "execute_result"
        }
      ]
    },
    {
      "cell_type": "markdown",
      "metadata": {
        "id": "e1wkg7bGT82s"
      },
      "source": [
        "That code generates a matrix of shape 20,050 x 300 (Length of vocabulary extracted from the corpus x Vector size). It can be navigated by word id, which can be obtained from the vocabulary."
      ]
    },
    {
      "cell_type": "code",
      "metadata": {
        "colab": {
          "base_uri": "https://localhost:8080/"
        },
        "id": "qHYqApLsT8Ne",
        "outputId": "a114de01-e10a-4056-b7af-8afe6c54af95"
      },
      "source": [
        "word = \"anxiety\"\n",
        "print(\"dic[word]:\", dic_vocabulary[word], \"|idx\")\n",
        "print(\"embeddings[idx]:\", embeddings[dic_vocabulary[word]].shape, \n",
        "      \"|vector\")"
      ],
      "execution_count": null,
      "outputs": [
        {
          "name": "stdout",
          "output_type": "stream",
          "text": [
            "dic[word]: 34 |idx\n",
            "embeddings[idx]: (300,) |vector\n"
          ]
        }
      ]
    },
    {
      "cell_type": "markdown",
      "metadata": {
        "id": "IFFP1EdIUyxY"
      },
      "source": [
        "### Deep Learning:"
      ]
    },
    {
      "cell_type": "markdown",
      "metadata": {
        "id": "FiB0MxUJW4ZL"
      },
      "source": [
        "It’s finally time to build a deep learning model. I’m going to use the embedding matrix in the first Embedding layer of the neural network that I will build and train to classify the news. Each id in the input sequence will be used as the index to access the embedding matrix. The output of this Embedding layer will be a 2D matrix with a word vector for each word id in the input sequence (Sequence length x Vector size). Let’s use the sentence “I like this article” as an example:"
      ]
    },
    {
      "cell_type": "markdown",
      "metadata": {
        "id": "Mm_LjeE3X8rC"
      },
      "source": [
        "My neural network shall be structured as follows:\n",
        "\n",
        "* An Embedding layer that takes the sequences as input and the word vectors as weights, just as described before.\n",
        "\n",
        "* A simple Attention layer that won’t affect the predictions but it’s going to capture the weights of each instance and allow us to build a nice explainer (it isn't necessary for the predictions, just for the explainability, so you can skip it).\n",
        "\n",
        "* Two layers of Bidirectional LSTM to model the order of words in a sequence in both directions.\n",
        "\n",
        "* Two final dense layers that will predict the probability of each category."
      ]
    },
    {
      "cell_type": "code",
      "metadata": {
        "colab": {
          "base_uri": "https://localhost:8080/"
        },
        "id": "SOvn_SS9by02",
        "outputId": "06456480-6152-4d7d-9e5f-a6796441d023"
      },
      "source": [
        "## code attention layer\n",
        "def attention_layer(inputs, neurons):\n",
        "    x = layers.Permute((2,1))(inputs)\n",
        "    x = layers.Dense(neurons, activation=\"softmax\")(x)\n",
        "    x = layers.Permute((2,1), name=\"attention\")(x)\n",
        "    x = layers.multiply([inputs, x])\n",
        "    return x\n",
        "\n",
        "## input\n",
        "x_in = layers.Input(shape=(35,))\n",
        "## embedding\n",
        "x = layers.Embedding(input_dim=embeddings.shape[0],  \n",
        "                     output_dim=embeddings.shape[1], \n",
        "                     weights=[embeddings],\n",
        "                     input_length=35, trainable=False)(x_in)\n",
        "## apply attention\n",
        "x = attention_layer(x, neurons=35)\n",
        "## 2 layers of bidirectional lstm\n",
        "x = layers.Bidirectional(layers.LSTM(units=35, dropout=0.2, \n",
        "                         return_sequences=True))(x)\n",
        "x = layers.Bidirectional(layers.LSTM(units=35, dropout=0.2))(x)\n",
        "## final dense layers\n",
        "x = layers.Dense(64, activation='relu')(x)\n",
        "y_out = layers.Dense(1, activation='sigmoid')(x)\n",
        "## compile\n",
        "model = models.Model(x_in, y_out)\n",
        "model.compile(loss='binary_crossentropy',\n",
        "              optimizer='adam', metrics=['accuracy'])\n",
        "\n",
        "model.summary()"
      ],
      "execution_count": null,
      "outputs": [
        {
          "name": "stdout",
          "output_type": "stream",
          "text": [
            "Model: \"model\"\n",
            "__________________________________________________________________________________________________\n",
            "Layer (type)                    Output Shape         Param #     Connected to                     \n",
            "==================================================================================================\n",
            "input_1 (InputLayer)            [(None, 35)]         0                                            \n",
            "__________________________________________________________________________________________________\n",
            "embedding (Embedding)           (None, 35, 300)      6045300     input_1[0][0]                    \n",
            "__________________________________________________________________________________________________\n",
            "permute (Permute)               (None, 300, 35)      0           embedding[0][0]                  \n",
            "__________________________________________________________________________________________________\n",
            "dense (Dense)                   (None, 300, 35)      1260        permute[0][0]                    \n",
            "__________________________________________________________________________________________________\n",
            "attention (Permute)             (None, 35, 300)      0           dense[0][0]                      \n",
            "__________________________________________________________________________________________________\n",
            "multiply (Multiply)             (None, 35, 300)      0           embedding[0][0]                  \n",
            "                                                                 attention[0][0]                  \n",
            "__________________________________________________________________________________________________\n",
            "bidirectional (Bidirectional)   (None, 35, 70)       94080       multiply[0][0]                   \n",
            "__________________________________________________________________________________________________\n",
            "bidirectional_1 (Bidirectional) (None, 70)           29680       bidirectional[0][0]              \n",
            "__________________________________________________________________________________________________\n",
            "dense_1 (Dense)                 (None, 64)           4544        bidirectional_1[0][0]            \n",
            "__________________________________________________________________________________________________\n",
            "dense_2 (Dense)                 (None, 1)            65          dense_1[0][0]                    \n",
            "==================================================================================================\n",
            "Total params: 6,174,929\n",
            "Trainable params: 129,629\n",
            "Non-trainable params: 6,045,300\n",
            "__________________________________________________________________________________________________\n"
          ]
        }
      ]
    },
    {
      "cell_type": "code",
      "metadata": {
        "id": "_a0UfsD6jDYB"
      },
      "source": [
        "## encode y\n",
        "dic_y_mapping = {n:label for n,label in \n",
        "                 enumerate(np.unique(y_train))}\n",
        "inverse_dic = {v:k for k,v in dic_y_mapping.items()}\n",
        "y_train = np.array([inverse_dic[y] for y in y_train])\n",
        "## train\n",
        "training = model.fit(x=X_train, y=y_train, batch_size=256, \n",
        "                     epochs=30, shuffle=True, verbose=0, \n",
        "                     validation_split=0.3)"
      ],
      "execution_count": null,
      "outputs": []
    },
    {
      "cell_type": "code",
      "metadata": {
        "colab": {
          "base_uri": "https://localhost:8080/",
          "height": 375
        },
        "id": "nQAfHyKiJ7Q-",
        "outputId": "4ac12159-b0f4-4e28-a31a-93202672f7a4"
      },
      "source": [
        "## plot loss and accuracy\n",
        "metrics = [k for k in training.history.keys() if (\"loss\" not in k) and (\"val\" not in k)]\n",
        "fig, ax = plt.subplots(nrows=1, ncols=2, sharey=True)\n",
        "ax[0].set(title=\"Training\")\n",
        "ax11 = ax[0].twinx()\n",
        "ax[0].plot(training.history['loss'], color='black')\n",
        "ax[0].set_xlabel('Epochs')\n",
        "ax[0].set_ylabel('Loss', color='black')\n",
        "for metric in metrics:\n",
        "    ax11.plot(training.history[metric], label=metric)\n",
        "ax11.set_ylabel(\"Score\", color='steelblue')\n",
        "ax11.legend()\n",
        "ax[1].set(title=\"Validation\")\n",
        "ax22 = ax[1].twinx()\n",
        "ax[1].plot(training.history['val_loss'], color='black')\n",
        "ax[1].set_xlabel('Epochs')\n",
        "ax[1].set_ylabel('Loss', color='black')\n",
        "for metric in metrics:\n",
        "     ax22.plot(training.history['val_'+metric], label=metric)\n",
        "ax22.set_ylabel(\"Score\", color=\"steelblue\")\n",
        "plt.savefig('/content/drive/MyDrive/NLP/Depression_Detection/modeling/loss_accuracy_LSTM_3.png')\n",
        "plt.show()"
      ],
      "execution_count": null,
      "outputs": [
        {
          "data": {
            "image/png": "[encoded data removed]",
            "text/plain": [
              "<Figure size 576x396 with 4 Axes>"
            ]
          },
          "metadata": {},
          "output_type": "display_data"
        }
      ]
    },
    {
      "cell_type": "code",
      "metadata": {
        "colab": {
          "base_uri": "https://localhost:8080/"
        },
        "id": "mTRhUx_MQEjR",
        "outputId": "5d999995-8b7a-4bc9-d403-9ddd33036f21"
      },
      "source": [
        "# serialize model to JSON\n",
        "model_json = model.to_json()\n",
        "with open(\"/content/drive/MyDrive/NLP/Depression_Detection/modeling/model.json\", \"w\") as json_file:\n",
        "    json_file.write(model_json)\n",
        "# serialize weights to HDF5\n",
        "model.save_weights(\"/content/drive/MyDrive/NLP/Depression_Detection/modeling/model.h5\")\n",
        "print(\"Saved model to disk\")"
      ],
      "execution_count": null,
      "outputs": [
        {
          "name": "stdout",
          "output_type": "stream",
          "text": [
            "Saved model to disk\n"
          ]
        }
      ]
    },
    {
      "cell_type": "code",
      "metadata": {
        "colab": {
          "base_uri": "https://localhost:8080/"
        },
        "id": "ugZUn4N2QxGl",
        "outputId": "46ce1010-9767-4665-db3c-361d1ac1c13a"
      },
      "source": [
        "loaded_model = model_from_json(open(\"/content/drive/MyDrive/NLP/Depression_Detection/modeling/model.json\", \"r\").read(),\n",
        "                              custom_objects={'tf': tf})\n",
        "json_file.close() \n",
        "# load weights into new model\n",
        "loaded_model.load_weights(\"/content/drive/MyDrive/NLP/Depression_Detection/modeling/model.h5\")\n",
        "print(\"Loaded model from disk\")"
      ],
      "execution_count": null,
      "outputs": [
        {
          "name": "stdout",
          "output_type": "stream",
          "text": [
            "Loaded model from disk\n"
          ]
        }
      ]
    },
    {
      "cell_type": "code",
      "metadata": {
        "colab": {
          "base_uri": "https://localhost:8080/"
        },
        "id": "h_-4riLcRKx_",
        "outputId": "4e2503e1-7339-44dd-d8de-e508ff31b6a1"
      },
      "source": [
        "labels_pred = model.predict(X_test)\n",
        "labels_pred = np.round(labels_pred.flatten())\n",
        "accuracy = accuracy_score(y_test, labels_pred)\n",
        "classes = np.unique(y_test)\n",
        "print(\"Accuracy: %.2f%%\" % (accuracy*100))"
      ],
      "execution_count": null,
      "outputs": [
        {
          "name": "stdout",
          "output_type": "stream",
          "text": [
            "Accuracy: 82.30%\n"
          ]
        }
      ]
    },
    {
      "cell_type": "code",
      "metadata": {
        "id": "L5Jvkl43NOro"
      },
      "source": [
        "def conf_matrix_acc2(y_true, y_pred):\n",
        "  ## Plot confusion matrix\n",
        "  cm = confusion_matrix(y_test, y_pred)\n",
        "  fig, ax = plt.subplots()\n",
        "  sns.heatmap(cm, annot=True, fmt='d', ax=ax, cmap=plt.cm.Blues, \n",
        "            cbar=False)\n",
        "  ax.set(xlabel=\"Pred\", ylabel=\"True\", xticklabels=classes, \n",
        "       yticklabels=classes, title=\"Confusion matrix\")\n",
        "  plt.yticks(rotation=0)\n",
        "  print(\"=========================================\")\n",
        "  print(f'Accuracy score is : {accuracy_score(y_true, y_pred)}')\n",
        "  print(\"=========================================\")\n",
        "  print(\"Detail:\")\n",
        "  print(skm.classification_report(y_test, y_pred))"
      ],
      "execution_count": null,
      "outputs": []
    },
    {
      "cell_type": "code",
      "metadata": {
        "colab": {
          "base_uri": "https://localhost:8080/",
          "height": 606
        },
        "id": "XKxWSkvQRshY",
        "outputId": "d181c616-69d7-4925-8b93-a38503d4cf17"
      },
      "source": [
        "conf_matrix_acc2(y_test, labels_pred)"
      ],
      "execution_count": null,
      "outputs": [
        {
          "name": "stdout",
          "output_type": "stream",
          "text": [
            "=========================================\n",
            "Accuracy score is : 0.8230238128786811\n",
            "=========================================\n",
            "Detail:\n",
            "              precision    recall  f1-score   support\n",
            "\n",
            "           0       0.79      0.90      0.84      3632\n",
            "           1       0.87      0.75      0.80      3465\n",
            "\n",
            "    accuracy                           0.82      7097\n",
            "   macro avg       0.83      0.82      0.82      7097\n",
            "weighted avg       0.83      0.82      0.82      7097\n",
            "\n"
          ]
        },
        {
          "data": {
            "image/png": "[encoded data removed]",
            "text/plain": [
              "<Figure size 576x396 with 1 Axes>"
            ]
          },
          "metadata": {},
          "output_type": "display_data"
        }
      ]
    },
    {
      "cell_type": "code",
      "metadata": {
        "id": "w-X8jLwuSRsf"
      },
      "source": [
        "# classes = np.unique(y_test)\n",
        "# y_test_array = pd.get_dummies(y_test, drop_first=False).values\n",
        "# predicted_prob = model.predict_on_batch(X_test)"
      ],
      "execution_count": null,
      "outputs": []
    },
    {
      "cell_type": "code",
      "metadata": {
        "id": "aLkeYsBrNP7F"
      },
      "source": [
        "# ## Plot ROC and precision-recall curve\n",
        "# def roc_precision_auc2():\n",
        "#   fig, ax = plt.subplots(nrows=1, ncols=2)\n",
        "#   ## Plot roc\n",
        "#   for i in range(len(classes)):\n",
        "#       fpr, tpr, thresholds = skm.roc_curve(y_test_array[:,i],  \n",
        "#                             predicted_prob[:,i])\n",
        "#       ax[0].plot(fpr, tpr, lw=3, \n",
        "#                 label='{0} (area={1:0.2f})'.format(classes[i], \n",
        "#                                 skm.auc(fpr, tpr))\n",
        "#                  )\n",
        "#   ax[0].plot([0,1], [0,1], color='navy', lw=3, linestyle='--')\n",
        "#   ax[0].set(xlim=[-0.05,1.0], ylim=[0.0,1.05], \n",
        "#             xlabel='False Positive Rate', \n",
        "#             ylabel=\"True Positive Rate (Recall)\", \n",
        "#             title=\"Receiver operating characteristic\")\n",
        "#   ax[0].legend(loc=\"lower right\")\n",
        "#   ax[0].grid(True)\n",
        "\n",
        "#   ## Plot precision-recall curve\n",
        "#   for i in range(len(classes)):\n",
        "#     precision, recall, thresholds = skm.precision_recall_curve(\n",
        "#                 y_test_array[:,i], probs[:,i])\n",
        "#     ax[1].plot(recall, precision, lw=3, \n",
        "#                label='{0} (area={1:0.2f})'.format(classes[i], \n",
        "#                                   skm.auc(recall, precision))\n",
        "#               )\n",
        "#   ax[1].set(xlim=[0.0,1.05], ylim=[0.0,1.05], xlabel='Recall', \n",
        "#             ylabel=\"Precision\", title=\"Precision-Recall curve\")\n",
        "#   ax[1].legend(loc=\"best\")\n",
        "#   ax[1].grid(True)\n",
        "#   plt.show()\n",
        "#   #plt.savefig('/content/drive/MyDrive/NLP/Depression_Detection/modeling/ROC_Precision_LR.png')\n",
        "#   #plt.savefig('/content/drive/MyDrive/NLP/Depression_Detection/modeling/ROC_Precision_LSTM.png')  \n",
        "#   ## AUC score\n",
        "#   print(f'AUC score is : {skm.roc_auc_score(y_test, probs[:,1])}')"
      ],
      "execution_count": null,
      "outputs": []
    }
  ]
}
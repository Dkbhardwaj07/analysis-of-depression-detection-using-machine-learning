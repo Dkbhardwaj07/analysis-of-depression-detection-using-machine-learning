{
  "nbformat": 4,
  "nbformat_minor": 0,
  "metadata": {
    "colab": {
      "name": "modeling.ipynb",
      "provenance": []
    },
    "kernelspec": {
      "display_name": "Python 3",
      "name": "python3"
    },
    "language_info": {
      "name": "python"
    }
  },
  "cells": [
    {
      "cell_type": "code",
      "metadata": {
        "colab": {
          "base_uri": "https://localhost:8080/"
        },
        "id": "EnBV1jN248Ug",
        "outputId": "3424dd27-36c7-429e-b088-2267a6750bf3"
      },
      "source": [
        "from google.colab import drive\n",
        "drive.mount('/content/drive')"
      ],
      "execution_count": null,
      "outputs": [
        {
          "output_type": "stream",
          "name": "stdout",
          "text": [
            "Mounted at /content/drive\n"
          ]
        }
      ]
    },
    {
      "cell_type": "code",
      "metadata": {
        "id": "ceDOBFoAPvNl"
      },
      "source": [
        "#!pip install -qqq h5py"
      ],
      "execution_count": null,
      "outputs": []
    },
    {
      "cell_type": "code",
      "metadata": {
        "colab": {
          "base_uri": "https://localhost:8080/"
        },
        "id": "HvyXFF0GHrHq",
        "outputId": "d694def4-662f-4682-86ed-1126420651fc"
      },
      "source": [
        "#!pip install --upgrade -qqq gensim"
      ],
      "execution_count": null,
      "outputs": [
        {
          "name": "stdout",
          "output_type": "stream",
          "text": [
            "\u001b[K     |████████████████████████████████| 24.1 MB 1.8 MB/s \n",
            "\u001b[?25h"
          ]
        }
      ]
    },
    {
      "cell_type": "code",
      "metadata": {
        "colab": {
          "base_uri": "https://localhost:8080/"
        },
        "id": "Acq0aPH0-ZoR",
        "outputId": "68aa21cc-0c63-42dc-ba79-e7897a0ae04d"
      },
      "source": [
        "!python -m spacy download en_core_web_lg"
      ],
      "execution_count": null,
      "outputs": [
        {
          "output_type": "stream",
          "name": "stdout",
          "text": [
            "Collecting en_core_web_lg==2.2.5\n",
            "  Downloading https://github.com/explosion/spacy-models/releases/download/en_core_web_lg-2.2.5/en_core_web_lg-2.2.5.tar.gz (827.9 MB)\n",
            "\u001b[K     |████████████████████████████████| 827.9 MB 1.3 MB/s \n",
            "\u001b[?25hRequirement already satisfied: spacy>=2.2.2 in /usr/local/lib/python3.7/dist-packages (from en_core_web_lg==2.2.5) (2.2.4)\n",
            "Requirement already satisfied: cymem<2.1.0,>=2.0.2 in /usr/local/lib/python3.7/dist-packages (from spacy>=2.2.2->en_core_web_lg==2.2.5) (2.0.6)\n",
            "Requirement already satisfied: numpy>=1.15.0 in /usr/local/lib/python3.7/dist-packages (from spacy>=2.2.2->en_core_web_lg==2.2.5) (1.19.5)\n",
            "Requirement already satisfied: murmurhash<1.1.0,>=0.28.0 in /usr/local/lib/python3.7/dist-packages (from spacy>=2.2.2->en_core_web_lg==2.2.5) (1.0.6)\n",
            "Requirement already satisfied: wasabi<1.1.0,>=0.4.0 in /usr/local/lib/python3.7/dist-packages (from spacy>=2.2.2->en_core_web_lg==2.2.5) (0.8.2)\n",
            "Requirement already satisfied: plac<1.2.0,>=0.9.6 in /usr/local/lib/python3.7/dist-packages (from spacy>=2.2.2->en_core_web_lg==2.2.5) (1.1.3)\n",
            "Requirement already satisfied: requests<3.0.0,>=2.13.0 in /usr/local/lib/python3.7/dist-packages (from spacy>=2.2.2->en_core_web_lg==2.2.5) (2.23.0)\n",
            "Requirement already satisfied: blis<0.5.0,>=0.4.0 in /usr/local/lib/python3.7/dist-packages (from spacy>=2.2.2->en_core_web_lg==2.2.5) (0.4.1)\n",
            "Requirement already satisfied: preshed<3.1.0,>=3.0.2 in /usr/local/lib/python3.7/dist-packages (from spacy>=2.2.2->en_core_web_lg==2.2.5) (3.0.6)\n",
            "Requirement already satisfied: thinc==7.4.0 in /usr/local/lib/python3.7/dist-packages (from spacy>=2.2.2->en_core_web_lg==2.2.5) (7.4.0)\n",
            "Requirement already satisfied: srsly<1.1.0,>=1.0.2 in /usr/local/lib/python3.7/dist-packages (from spacy>=2.2.2->en_core_web_lg==2.2.5) (1.0.5)\n",
            "Requirement already satisfied: catalogue<1.1.0,>=0.0.7 in /usr/local/lib/python3.7/dist-packages (from spacy>=2.2.2->en_core_web_lg==2.2.5) (1.0.0)\n",
            "Requirement already satisfied: setuptools in /usr/local/lib/python3.7/dist-packages (from spacy>=2.2.2->en_core_web_lg==2.2.5) (57.4.0)\n",
            "Requirement already satisfied: tqdm<5.0.0,>=4.38.0 in /usr/local/lib/python3.7/dist-packages (from spacy>=2.2.2->en_core_web_lg==2.2.5) (4.62.3)\n",
            "Requirement already satisfied: importlib-metadata>=0.20 in /usr/local/lib/python3.7/dist-packages (from catalogue<1.1.0,>=0.0.7->spacy>=2.2.2->en_core_web_lg==2.2.5) (4.8.2)\n",
            "Requirement already satisfied: zipp>=0.5 in /usr/local/lib/python3.7/dist-packages (from importlib-metadata>=0.20->catalogue<1.1.0,>=0.0.7->spacy>=2.2.2->en_core_web_lg==2.2.5) (3.6.0)\n",
            "Requirement already satisfied: typing-extensions>=3.6.4 in /usr/local/lib/python3.7/dist-packages (from importlib-metadata>=0.20->catalogue<1.1.0,>=0.0.7->spacy>=2.2.2->en_core_web_lg==2.2.5) (3.10.0.2)\n",
            "Requirement already satisfied: chardet<4,>=3.0.2 in /usr/local/lib/python3.7/dist-packages (from requests<3.0.0,>=2.13.0->spacy>=2.2.2->en_core_web_lg==2.2.5) (3.0.4)\n",
            "Requirement already satisfied: idna<3,>=2.5 in /usr/local/lib/python3.7/dist-packages (from requests<3.0.0,>=2.13.0->spacy>=2.2.2->en_core_web_lg==2.2.5) (2.10)\n",
            "Requirement already satisfied: certifi>=2017.4.17 in /usr/local/lib/python3.7/dist-packages (from requests<3.0.0,>=2.13.0->spacy>=2.2.2->en_core_web_lg==2.2.5) (2021.10.8)\n",
            "Requirement already satisfied: urllib3!=1.25.0,!=1.25.1,<1.26,>=1.21.1 in /usr/local/lib/python3.7/dist-packages (from requests<3.0.0,>=2.13.0->spacy>=2.2.2->en_core_web_lg==2.2.5) (1.24.3)\n",
            "Building wheels for collected packages: en-core-web-lg\n",
            "  Building wheel for en-core-web-lg (setup.py) ... \u001b[?25l\u001b[?25hdone\n",
            "  Created wheel for en-core-web-lg: filename=en_core_web_lg-2.2.5-py3-none-any.whl size=829180942 sha256=2b245d4db35432e69601f09c954c3f03ad99442f4c272e38e79ff0cda6e18570\n",
            "  Stored in directory: /tmp/pip-ephem-wheel-cache-ll8e18vr/wheels/11/95/ba/2c36cc368c0bd339b44a791c2c1881a1fb714b78c29a4cb8f5\n",
            "Successfully built en-core-web-lg\n",
            "Installing collected packages: en-core-web-lg\n",
            "Successfully installed en-core-web-lg-2.2.5\n",
            "\u001b[38;5;2m✔ Download and installation successful\u001b[0m\n",
            "You can now load the model via spacy.load('en_core_web_lg')\n"
          ]
        }
      ]
    },
    {
      "cell_type": "code",
      "metadata": {
        "colab": {
          "base_uri": "https://localhost:8080/",
          "height": 801
        },
        "id": "sBYe-DXP_Huq",
        "outputId": "fde81c27-16c0-42d4-b623-1c12984c6923"
      },
      "source": [
        "!pip install -U SpaCy==2.2.0"
      ],
      "execution_count": null,
      "outputs": [
        {
          "output_type": "stream",
          "name": "stdout",
          "text": [
            "Collecting SpaCy==2.2.0\n",
            "  Downloading spacy-2.2.0-cp37-cp37m-manylinux1_x86_64.whl (10.2 MB)\n",
            "\u001b[K     |████████████████████████████████| 10.2 MB 14.1 MB/s \n",
            "\u001b[?25hCollecting thinc<7.2.0,>=7.1.1\n",
            "  Downloading thinc-7.1.1-cp37-cp37m-manylinux1_x86_64.whl (2.1 MB)\n",
            "\u001b[K     |████████████████████████████████| 2.1 MB 69.4 MB/s \n",
            "\u001b[?25hRequirement already satisfied: blis<0.5.0,>=0.4.0 in /usr/local/lib/python3.7/dist-packages (from SpaCy==2.2.0) (0.4.1)\n",
            "Collecting plac<1.0.0,>=0.9.6\n",
            "  Downloading plac-0.9.6-py2.py3-none-any.whl (20 kB)\n",
            "Requirement already satisfied: numpy>=1.15.0 in /usr/local/lib/python3.7/dist-packages (from SpaCy==2.2.0) (1.19.5)\n",
            "Requirement already satisfied: preshed<3.1.0,>=3.0.2 in /usr/local/lib/python3.7/dist-packages (from SpaCy==2.2.0) (3.0.6)\n",
            "Requirement already satisfied: cymem<2.1.0,>=2.0.2 in /usr/local/lib/python3.7/dist-packages (from SpaCy==2.2.0) (2.0.6)\n",
            "Requirement already satisfied: murmurhash<1.1.0,>=0.28.0 in /usr/local/lib/python3.7/dist-packages (from SpaCy==2.2.0) (1.0.6)\n",
            "Requirement already satisfied: wasabi<1.1.0,>=0.2.0 in /usr/local/lib/python3.7/dist-packages (from SpaCy==2.2.0) (0.8.2)\n",
            "Requirement already satisfied: requests<3.0.0,>=2.13.0 in /usr/local/lib/python3.7/dist-packages (from SpaCy==2.2.0) (2.23.0)\n",
            "Requirement already satisfied: srsly<1.1.0,>=0.1.0 in /usr/local/lib/python3.7/dist-packages (from SpaCy==2.2.0) (1.0.5)\n",
            "Requirement already satisfied: idna<3,>=2.5 in /usr/local/lib/python3.7/dist-packages (from requests<3.0.0,>=2.13.0->SpaCy==2.2.0) (2.10)\n",
            "Requirement already satisfied: urllib3!=1.25.0,!=1.25.1,<1.26,>=1.21.1 in /usr/local/lib/python3.7/dist-packages (from requests<3.0.0,>=2.13.0->SpaCy==2.2.0) (1.24.3)\n",
            "Requirement already satisfied: chardet<4,>=3.0.2 in /usr/local/lib/python3.7/dist-packages (from requests<3.0.0,>=2.13.0->SpaCy==2.2.0) (3.0.4)\n",
            "Requirement already satisfied: certifi>=2017.4.17 in /usr/local/lib/python3.7/dist-packages (from requests<3.0.0,>=2.13.0->SpaCy==2.2.0) (2021.10.8)\n",
            "Requirement already satisfied: tqdm<5.0.0,>=4.10.0 in /usr/local/lib/python3.7/dist-packages (from thinc<7.2.0,>=7.1.1->SpaCy==2.2.0) (4.62.3)\n",
            "Installing collected packages: plac, thinc, SpaCy\n",
            "  Attempting uninstall: plac\n",
            "    Found existing installation: plac 1.1.3\n",
            "    Uninstalling plac-1.1.3:\n",
            "      Successfully uninstalled plac-1.1.3\n",
            "  Attempting uninstall: thinc\n",
            "    Found existing installation: thinc 7.4.0\n",
            "    Uninstalling thinc-7.4.0:\n",
            "      Successfully uninstalled thinc-7.4.0\n",
            "  Attempting uninstall: SpaCy\n",
            "    Found existing installation: spacy 2.2.4\n",
            "    Uninstalling spacy-2.2.4:\n",
            "      Successfully uninstalled spacy-2.2.4\n",
            "\u001b[31mERROR: pip's dependency resolver does not currently take into account all the packages that are installed. This behaviour is the source of the following dependency conflicts.\n",
            "en-core-web-sm 2.2.5 requires spacy>=2.2.2, but you have spacy 2.2.0 which is incompatible.\n",
            "en-core-web-lg 2.2.5 requires spacy>=2.2.2, but you have spacy 2.2.0 which is incompatible.\u001b[0m\n",
            "Successfully installed SpaCy-2.2.0 plac-0.9.6 thinc-7.1.1\n"
          ]
        },
        {
          "output_type": "display_data",
          "data": {
            "application/vnd.colab-display-data+json": {
              "pip_warning": {
                "packages": [
                  "plac",
                  "plac_core",
                  "plac_ext",
                  "spacy",
                  "thinc"
                ]
              }
            }
          },
          "metadata": {}
        }
      ]
    },
    {
      "cell_type": "code",
      "metadata": {
        "id": "KF1Wqxyj5IqV"
      },
      "source": [
        "## Import required libraries\n",
        "\n",
        "## warnings\n",
        "import warnings\n",
        "warnings.filterwarnings(\"ignore\")\n",
        "\n",
        "## for data\n",
        "import numpy as np\n",
        "import pandas as pd\n",
        "\n",
        "## for plotting\n",
        "import matplotlib.pyplot as plt\n",
        "import seaborn as sns\n",
        "\n",
        "## TF-IDF \n",
        "from sklearn.feature_extraction.text import TfidfVectorizer\n",
        "\n",
        "## T-Sne\n",
        "from yellowbrick.text import TSNEVisualizer\n",
        "from sklearn import manifold\n",
        "\n",
        "## Train-Test Split\n",
        "from sklearn.model_selection import train_test_split\n",
        "\n",
        "## Feature selection\n",
        "from sklearn import feature_selection\n",
        "\n",
        "## libraraies for classification\n",
        "from sklearn.pipeline import Pipeline\n",
        "import sklearn.metrics as skm\n",
        "from sklearn.metrics import confusion_matrix, accuracy_score\n",
        "from sklearn.linear_model import LogisticRegression\n",
        "from sklearn.neighbors import KNeighborsClassifier\n",
        "from sklearn.svm import SVC\n",
        "from sklearn.tree import DecisionTreeClassifier\n",
        "from sklearn.neural_network import MLPClassifier\n",
        "from sklearn.ensemble import RandomForestClassifier\n",
        "\n",
        "## for saving model\n",
        "import pickle\n",
        "\n",
        "## for explainer\n",
        "#from lime import lime_text\n",
        "\n",
        "## detokenization\n",
        "from nltk.tokenize.treebank import TreebankWordDetokenizer\n",
        "\n",
        "## for word embedding with gensim\n",
        "import gensim\n",
        "import gensim.downloader as gensim_api\n",
        "from gensim.models import Word2Vec\n",
        "from gensim.models import KeyedVectors\n",
        "from keras.preprocessing.text import Tokenizer\n",
        "from keras.preprocessing.sequence import pad_sequences\n",
        "\n",
        "## for word embedding with Spacy\n",
        "import spacy\n",
        "import en_core_web_lg\n",
        "\n",
        "## for deep learning\n",
        "from keras.models import load_model\n",
        "from keras.models import Model, Sequential\n",
        "from keras.callbacks import EarlyStopping, ModelCheckpoint\n",
        "from keras.layers import Conv1D, Dense, Input, LSTM, Embedding, Dropout, Activation, MaxPooling1D\n",
        "from tensorflow.keras import models, layers, preprocessing as kprocessing\n",
        "from tensorflow.keras import backend as K\n",
        "import tensorflow as tf\n",
        "import keras\n",
        "from keras.layers import Lambda\n",
        "import tensorflow as tf\n",
        "from keras.models import model_from_json\n",
        "\n",
        "## for bert language model\n",
        "#import transformers"
      ],
      "execution_count": null,
      "outputs": []
    },
    {
      "cell_type": "markdown",
      "metadata": {
        "id": "qpKZPTJFf3ny"
      },
      "source": [
        "## Loading the dataset:"
      ]
    },
    {
      "cell_type": "code",
      "metadata": {
        "id": "aX_vtWbl5Yg2"
      },
      "source": [
        "df_all = pd.read_csv(\"/content/drive/MyDrive/NLP/Depression_Detection/data_cleaning/processed_data/processed_data.csv\",\n",
        "                     sep='\\t', encoding='utf-8')"
      ],
      "execution_count": null,
      "outputs": []
    },
    {
      "cell_type": "code",
      "metadata": {
        "colab": {
          "base_uri": "https://localhost:8080/",
          "height": 414
        },
        "id": "MK9pdUZL3qiE",
        "outputId": "b755aeae-2e8f-41f0-ad0a-1bde478b8a7b"
      },
      "source": [
        "df_all"
      ],
      "execution_count": null,
      "outputs": [
        {
          "output_type": "execute_result",
          "data": {
            "text/html": [
              "<div>\n",
              "<style scoped>\n",
              "    .dataframe tbody tr th:only-of-type {\n",
              "        vertical-align: middle;\n",
              "    }\n",
              "\n",
              "    .dataframe tbody tr th {\n",
              "        vertical-align: top;\n",
              "    }\n",
              "\n",
              "    .dataframe thead th {\n",
              "        text-align: right;\n",
              "    }\n",
              "</style>\n",
              "<table border=\"1\" class=\"dataframe\">\n",
              "  <thead>\n",
              "    <tr style=\"text-align: right;\">\n",
              "      <th></th>\n",
              "      <th>text</th>\n",
              "      <th>label</th>\n",
              "      <th>clean_text</th>\n",
              "    </tr>\n",
              "  </thead>\n",
              "  <tbody>\n",
              "    <tr>\n",
              "      <th>0</th>\n",
              "      <td>Open discussion. Between the Transfer Portal a...</td>\n",
              "      <td>1</td>\n",
              "      <td>open discussion transfer portal nil become obs...</td>\n",
              "    </tr>\n",
              "    <tr>\n",
              "      <th>1</th>\n",
              "      <td>Plenty of things are changing in my life and t...</td>\n",
              "      <td>1</td>\n",
              "      <td>plenty thing changing life life around one thi...</td>\n",
              "    </tr>\n",
              "    <tr>\n",
              "      <th>2</th>\n",
              "      <td>I feel a little hopeless. Anyone else? #hopele...</td>\n",
              "      <td>1</td>\n",
              "      <td>feel little hopeless anyone else</td>\n",
              "    </tr>\n",
              "    <tr>\n",
              "      <th>3</th>\n",
              "      <td>Which is more healthy? Hope, or hopelessness? ...</td>\n",
              "      <td>1</td>\n",
              "      <td>healthy hope hopelessness</td>\n",
              "    </tr>\n",
              "    <tr>\n",
              "      <th>4</th>\n",
              "      <td>So someone tell me how do I get over #HOPELESS...</td>\n",
              "      <td>1</td>\n",
              "      <td>someone tell get live world surrounded people ...</td>\n",
              "    </tr>\n",
              "    <tr>\n",
              "      <th>...</th>\n",
              "      <td>...</td>\n",
              "      <td>...</td>\n",
              "      <td>...</td>\n",
              "    </tr>\n",
              "    <tr>\n",
              "      <th>38904</th>\n",
              "      <td>@andreaj27 well, cheers. i have a glass of wat...</td>\n",
              "      <td>0</td>\n",
              "      <td>well cheer glass water handy drink cheer</td>\n",
              "    </tr>\n",
              "    <tr>\n",
              "      <th>38905</th>\n",
              "      <td>@AndreaJo84 Is that right? You're over in Palm...</td>\n",
              "      <td>0</td>\n",
              "      <td>right palm spring guess see local news still w...</td>\n",
              "    </tr>\n",
              "    <tr>\n",
              "      <th>38906</th>\n",
              "      <td>@AndreaKobayashi It's the best cafe in Asakusa...</td>\n",
              "      <td>0</td>\n",
              "      <td>best cafe asakusa tokyo small serf best coffee</td>\n",
              "    </tr>\n",
              "    <tr>\n",
              "      <th>38907</th>\n",
              "      <td>@AndreaKoeln heeey! tonight is the night! no s...</td>\n",
              "      <td>0</td>\n",
              "      <td>heeey tonight night sleeping like night loll</td>\n",
              "    </tr>\n",
              "    <tr>\n",
              "      <th>38908</th>\n",
              "      <td>@AmandaFClark it is when you add the hammock</td>\n",
              "      <td>0</td>\n",
              "      <td>add hammock</td>\n",
              "    </tr>\n",
              "  </tbody>\n",
              "</table>\n",
              "<p>38909 rows × 3 columns</p>\n",
              "</div>"
            ],
            "text/plain": [
              "                                                    text  ...                                         clean_text\n",
              "0      Open discussion. Between the Transfer Portal a...  ...  open discussion transfer portal nil become obs...\n",
              "1      Plenty of things are changing in my life and t...  ...  plenty thing changing life life around one thi...\n",
              "2      I feel a little hopeless. Anyone else? #hopele...  ...                   feel little hopeless anyone else\n",
              "3      Which is more healthy? Hope, or hopelessness? ...  ...                          healthy hope hopelessness\n",
              "4      So someone tell me how do I get over #HOPELESS...  ...  someone tell get live world surrounded people ...\n",
              "...                                                  ...  ...                                                ...\n",
              "38904  @andreaj27 well, cheers. i have a glass of wat...  ...           well cheer glass water handy drink cheer\n",
              "38905  @AndreaJo84 Is that right? You're over in Palm...  ...  right palm spring guess see local news still w...\n",
              "38906  @AndreaKobayashi It's the best cafe in Asakusa...  ...     best cafe asakusa tokyo small serf best coffee\n",
              "38907  @AndreaKoeln heeey! tonight is the night! no s...  ...       heeey tonight night sleeping like night loll\n",
              "38908      @AmandaFClark it is when you add the hammock   ...                                        add hammock\n",
              "\n",
              "[38909 rows x 3 columns]"
            ]
          },
          "metadata": {},
          "execution_count": 11
        }
      ]
    },
    {
      "cell_type": "markdown",
      "metadata": {
        "id": "uM-8VSL6Lh90"
      },
      "source": [
        "## Classification models as well as LSTM with pretrained model(Spacy):"
      ]
    },
    {
      "cell_type": "markdown",
      "metadata": {
        "id": "IOqhNXnbU9Lx"
      },
      "source": [
        "In order to run a supervised learning model, we first need to convert the clean_text into feature representation."
      ]
    },
    {
      "cell_type": "code",
      "metadata": {
        "id": "o5TuRf0zLmrY"
      },
      "source": [
        "nlp = en_core_web_lg.load()"
      ],
      "execution_count": null,
      "outputs": []
    },
    {
      "cell_type": "code",
      "metadata": {
        "id": "VnRhuRZ8Uh4O"
      },
      "source": [
        "## word-embedding\n",
        "all_vectors = pd.np.array([pd.np.array([token.vector for token in nlp(s)]).mean(axis=0) * pd.np.ones((300)) \\\n",
        "                           for s in df_all['clean_text']])"
      ],
      "execution_count": null,
      "outputs": []
    },
    {
      "cell_type": "code",
      "metadata": {
        "id": "ZC2QaSNgB7DG"
      },
      "source": [
        "# split out validation dataset for the end\n",
        "Y= df_all[\"label\"]\n",
        "X = all_vectors\n",
        "\n",
        "from sklearn.model_selection import train_test_split, KFold, cross_val_score, GridSearchCV\n",
        "validation_size = 0.3\n",
        "seed = 7\n",
        "X_train, X_test, Y_train, Y_test = train_test_split(X, Y, test_size=validation_size, random_state=seed)\n",
        "\n",
        "# test options for classification\n",
        "num_folds = 10\n",
        "seed = 7\n",
        "scoring = 'accuracy'\n",
        "\n",
        "## spot check the algorithms\n",
        "models = []\n",
        "models.append(('LR', LogisticRegression()))\n",
        "models.append(('KNN', KNeighborsClassifier()))\n",
        "models.append(('CART', DecisionTreeClassifier()))\n",
        "models.append(('SVM', SVC()))\n",
        "## Neural Network\n",
        "models.append(('NN', MLPClassifier()))\n",
        "## Ensable Models \n",
        "models.append(('RF', RandomForestClassifier()))"
      ],
      "execution_count": null,
      "outputs": []
    },
    {
      "cell_type": "code",
      "metadata": {
        "colab": {
          "base_uri": "https://localhost:8080/"
        },
        "id": "4s-ZnpSIDGml",
        "outputId": "1356b2cb-057b-47d1-b8f9-0a199325ef8c"
      },
      "source": [
        "## Running the classification models\n",
        "results = []\n",
        "names = []\n",
        "kfold_results = []\n",
        "test_results = []\n",
        "train_results = []\n",
        "for name, model in models:\n",
        "    kfold = KFold(n_splits=num_folds, random_state=seed)\n",
        "    cv_results = cross_val_score(model, X_train, Y_train, cv=kfold, scoring=scoring)\n",
        "    results.append(cv_results)\n",
        "    names.append(name)\n",
        "    #msg = \"%s: %f (%f)\" % (name, cv_results.mean(), cv_results.std())\n",
        "    #print(msg)\n",
        "   \n",
        "   # Full Training period\n",
        "    res = model.fit(X_train, Y_train)\n",
        "    train_result = accuracy_score(res.predict(X_train), Y_train)\n",
        "    train_results.append(train_result)\n",
        "    \n",
        "    # Test results\n",
        "    test_result = accuracy_score(res.predict(X_test), Y_test)\n",
        "    test_results.append(test_result)    \n",
        "    \n",
        "    msg = \"%s: %f (%f) %f %f\" % (name, cv_results.mean(), cv_results.std(), train_result, test_result)\n",
        "    print(msg)\n",
        "    print(confusion_matrix(res.predict(X_test), Y_test))\n",
        "    #print(classification_report(res.predict(X_test), Y_test))"
      ],
      "execution_count": null,
      "outputs": [
        {
          "output_type": "stream",
          "name": "stdout",
          "text": [
            "LR: 0.849904 (0.006147) 0.855889 0.848368\n",
            "[[5394  895]\n",
            " [ 875 4509]]\n",
            "KNN: 0.797768 (0.008248) 0.847334 0.789857\n",
            "[[4351  535]\n",
            " [1918 4869]]\n",
            "CART: 0.743831 (0.008116) 0.998972 0.745738\n",
            "[[4733 1432]\n",
            " [1536 3972]]\n",
            "SVM: 0.865582 (0.006346) 0.892275 0.863017\n",
            "[[5552  882]\n",
            " [ 717 4522]]\n",
            "NN: 0.852290 (0.008657) 0.998054 0.852309\n",
            "[[5433  888]\n",
            " [ 836 4516]]\n",
            "RF: 0.841606 (0.008591) 0.998972 0.840230\n",
            "[[5648 1244]\n",
            " [ 621 4160]]\n"
          ]
        }
      ]
    },
    {
      "cell_type": "code",
      "metadata": {
        "colab": {
          "base_uri": "https://localhost:8080/",
          "height": 540
        },
        "id": "J7ueBZrYMm0v",
        "outputId": "3745f1b0-e622-4b5a-d0af-dbbfd0f8946b"
      },
      "source": [
        "# compare algorithms\n",
        "from matplotlib import pyplot\n",
        "fig = pyplot.figure()\n",
        "ind = np.arange(len(names))  # the x locations for the groups\n",
        "width = 0.35  # the width of the bars\n",
        "fig.suptitle('Algorithm Comparison')\n",
        "ax = fig.add_subplot(111)\n",
        "pyplot.bar(ind - width/2, train_results,  width=width, label='Train Error')\n",
        "pyplot.bar(ind + width/2, test_results, width=width, label='Test Error')\n",
        "fig.set_size_inches(15,8)\n",
        "pyplot.legend()\n",
        "ax.set_xticks(ind)\n",
        "ax.set_xticklabels(names)\n",
        "pyplot.show()"
      ],
      "execution_count": null,
      "outputs": [
        {
          "output_type": "display_data",
          "data": {
            "image/png": "[encoded data removed]",
            "text/plain": [
              "<Figure size 1080x576 with 1 Axes>"
            ]
          },
          "metadata": {}
        }
      ]
    },
    {
      "cell_type": "markdown",
      "metadata": {
        "id": "v2ONnB_jMAwv"
      },
      "source": [
        "The best model with the highest accuracy is **Support Vector Machine(SVM)** with **85.79**% accuracy on test dataset. Logistic Regression performed good as well but we see overfitting problem with CART, NN and RF."
      ]
    },
    {
      "cell_type": "markdown",
      "metadata": {
        "id": "4arHL0jORPAH"
      },
      "source": [
        "### LSTM model:"
      ]
    },
    {
      "cell_type": "code",
      "metadata": {
        "id": "ZP3d0s2jQtYA"
      },
      "source": [
        "### Create sequence\n",
        "vocabulary_size = 20000\n",
        "tokenizer = Tokenizer(num_words= vocabulary_size)\n",
        "tokenizer.fit_on_texts(df_all['clean_text'])\n",
        "sequences = tokenizer.texts_to_sequences(df_all['clean_text'])\n",
        "X_LSTM = pad_sequences(sequences, maxlen=50)"
      ],
      "execution_count": null,
      "outputs": []
    },
    {
      "cell_type": "code",
      "metadata": {
        "id": "4llx--HcR5Qo"
      },
      "source": [
        "## Split the data into train and test\n",
        "Y_LSTM = df_all[\"label\"]\n",
        "X_train_LSTM, X_test_LSTM, Y_train_LSTM, Y_test_LSTM = train_test_split(X_LSTM, \\\n",
        "                       Y_LSTM, test_size=validation_size, random_state=seed)"
      ],
      "execution_count": null,
      "outputs": []
    },
    {
      "cell_type": "code",
      "metadata": {
        "colab": {
          "base_uri": "https://localhost:8080/"
        },
        "id": "WXu9iwluSKC3",
        "outputId": "8b3bb160-b860-44f7-96d8-fc71a7f2738d"
      },
      "source": [
        "from keras.wrappers.scikit_learn import KerasClassifier\n",
        "def create_model(input_length=50):\n",
        "    model = Sequential()\n",
        "    model.add(Embedding(20000, 300, input_length=50))\n",
        "    model.add(LSTM(100, dropout=0.2, recurrent_dropout=0.2))\n",
        "    model.add(Dense(1, activation='sigmoid'))\n",
        "    model.compile(loss='binary_crossentropy', optimizer='adam', metrics=['accuracy'])    \n",
        "    return model    \n",
        "model_LSTM = KerasClassifier(build_fn=create_model, epochs=3, verbose=1, validation_split=0.4)\n",
        "model_LSTM.fit(X_train_LSTM, Y_train_LSTM)"
      ],
      "execution_count": null,
      "outputs": [
        {
          "output_type": "stream",
          "name": "stdout",
          "text": [
            "Epoch 1/3\n",
            "511/511 [==============================] - 138s 264ms/step - loss: 0.3561 - accuracy: 0.8405 - val_loss: 0.3040 - val_accuracy: 0.8729\n",
            "Epoch 2/3\n",
            "511/511 [==============================] - 135s 263ms/step - loss: 0.1890 - accuracy: 0.9241 - val_loss: 0.3237 - val_accuracy: 0.8606\n",
            "Epoch 3/3\n",
            "511/511 [==============================] - 134s 263ms/step - loss: 0.1161 - accuracy: 0.9525 - val_loss: 0.4235 - val_accuracy: 0.8540\n"
          ]
        },
        {
          "output_type": "execute_result",
          "data": {
            "text/plain": [
              "<keras.callbacks.History at 0x7fabc6862f50>"
            ]
          },
          "metadata": {},
          "execution_count": 14
        }
      ]
    },
    {
      "cell_type": "code",
      "metadata": {
        "id": "zZ7rFVv5ThsZ"
      },
      "source": [
        "train_result_LSTM = accuracy_score(model_LSTM.predict(X_train_LSTM), Y_train_LSTM)\n",
        "# Test results\n",
        "test_result_LSTM = accuracy_score(model_LSTM.predict(X_test_LSTM), Y_test_LSTM)"
      ],
      "execution_count": null,
      "outputs": []
    },
    {
      "cell_type": "code",
      "metadata": {
        "colab": {
          "base_uri": "https://localhost:8080/"
        },
        "id": "syOKVcDrTrA-",
        "outputId": "66289c55-fe09-40d7-b473-10200088b63b"
      },
      "source": [
        "print(\"train result:\", train_result_LSTM)\n",
        "print(\"test result:\", test_result_LSTM)"
      ],
      "execution_count": null,
      "outputs": [
        {
          "output_type": "stream",
          "name": "stdout",
          "text": [
            "train result: 0.9259068879424291\n",
            "test result: 0.8553071189925469\n"
          ]
        }
      ]
    },
    {
      "cell_type": "code",
      "metadata": {
        "colab": {
          "base_uri": "https://localhost:8080/"
        },
        "id": "xhkT8EFzUAol",
        "outputId": "acc3563d-e2fa-4df3-9a55-efa58992cc64"
      },
      "source": [
        "confusion_matrix(model_LSTM.predict(X_test_LSTM), Y_test_LSTM)"
      ],
      "execution_count": null,
      "outputs": [
        {
          "output_type": "execute_result",
          "data": {
            "text/plain": [
              "array([[5424,  844],\n",
              "       [ 845, 4560]])"
            ]
          },
          "metadata": {},
          "execution_count": 17
        }
      ]
    },
    {
      "cell_type": "markdown",
      "metadata": {
        "id": "wi_Bt5c6RdLB"
      },
      "source": [
        "### Compare all the models:"
      ]
    },
    {
      "cell_type": "code",
      "metadata": {
        "id": "_6j6bpafUKWV"
      },
      "source": [
        "train_results.append(train_result_LSTM);test_results.append(test_result_LSTM)\n",
        "names.append(\"LSTM\")"
      ],
      "execution_count": null,
      "outputs": []
    },
    {
      "cell_type": "code",
      "metadata": {
        "colab": {
          "base_uri": "https://localhost:8080/",
          "height": 557
        },
        "id": "I8zVmWQTUNdR",
        "outputId": "06e2dfbf-1cb2-444a-c0cd-cf6bff205796"
      },
      "source": [
        "# compare algorithms\n",
        "from matplotlib import pyplot\n",
        "fig = pyplot.figure()\n",
        "ind = np.arange(len(names))  # the x locations for the groups\n",
        "width = 0.35  # the width of the bars\n",
        "fig.suptitle('Algorithm Comparison')\n",
        "ax = fig.add_subplot(111)\n",
        "pyplot.bar(ind - width/2, train_results,  width=width, label='Train Error')\n",
        "pyplot.bar(ind + width/2, test_results, width=width, label='Test Error')\n",
        "fig.set_size_inches(15,8)\n",
        "pyplot.legend()\n",
        "ax.set_xticks(ind)\n",
        "ax.set_xticklabels(names)\n",
        "pyplot.show()\n",
        "plt.savefig('/content/drive/MyDrive/NLP/Depression_Detection/modeling/classification_comparision.png')"
      ],
      "execution_count": null,
      "outputs": [
        {
          "output_type": "display_data",
          "data": {
            "image/png": "[encoded data removed]",
            "text/plain": [
              "<Figure size 1080x576 with 1 Axes>"
            ]
          },
          "metadata": {}
        },
        {
          "output_type": "display_data",
          "data": {
            "text/plain": [
              "<Figure size 576x396 with 0 Axes>"
            ]
          },
          "metadata": {}
        }
      ]
    },
    {
      "cell_type": "markdown",
      "metadata": {
        "id": "iB73YuVi55HQ"
      },
      "source": [
        "## Evaluate the performance:"
      ]
    },
    {
      "cell_type": "markdown",
      "metadata": {
        "id": "APQx6jEQ6R9_"
      },
      "source": [
        "*   **Accuracy:** the fraction of predictions the model got right.\n",
        "*   **Confusion Matrix:** a summary table that breaks down the number of correct and incorrect predictions by each class.\n",
        "*   **ROC:** a plot that illustrates the true positive rate against the false positive rate at various threshold settings. The area under the curve (AUC) indicates the probability that the classifier will rank a randomly chosen positive observation higher than a randomly chosen negative one.\n",
        "*  **Precision:** the fraction of relevant instances among the retrieved instances.\n",
        "*  **Recall:** the fraction of the total amount of relevant instances that were actually retrieved.\n",
        "\n"
      ]
    },
    {
      "cell_type": "code",
      "metadata": {
        "id": "gcBQDboiJ-ht"
      },
      "source": [
        "def conf_matrix_acc(y_true, y_pred):\n",
        "  ## Plot confusion matrix\n",
        "  cm = confusion_matrix(y_true, y_pred)\n",
        "  fig, ax = plt.subplots()\n",
        "  sns.heatmap(cm, annot=True, fmt='d', ax=ax, cmap=plt.cm.Blues, \n",
        "            cbar=False)\n",
        "  ax.set(xlabel=\"Pred\", ylabel=\"True\", xticklabels=classes, \n",
        "       yticklabels=classes, title=\"Confusion matrix\")\n",
        "  plt.yticks(rotation=0)\n",
        "  print(\"=========================================\")\n",
        "  print(f'Accuracy score is : {accuracy_score(y_true, y_pred)}')\n",
        "  print(\"=========================================\")\n",
        "  print(\"Detail:\")\n",
        "  print(skm.classification_report(y_true, y_pred))"
      ],
      "execution_count": null,
      "outputs": []
    },
    {
      "cell_type": "code",
      "metadata": {
        "id": "0boGWGiH1aw9"
      },
      "source": [
        "## Plot ROC and precision-recall curve\n",
        "def roc_precision_auc():\n",
        "  fig, ax = plt.subplots(nrows=1, ncols=2)\n",
        "  ## Plot roc\n",
        "  for i in range(len(classes)):\n",
        "      fpr, tpr, thresholds = skm.roc_curve(y_test_array[:,i],  \n",
        "                            probs[:,i])\n",
        "      ax[0].plot(fpr, tpr, lw=3, \n",
        "                label='{0} (area={1:0.2f})'.format(classes[i], \n",
        "                                skm.auc(fpr, tpr))\n",
        "                 )\n",
        "  ax[0].plot([0,1], [0,1], color='navy', lw=3, linestyle='--')\n",
        "  ax[0].set(xlim=[-0.05,1.0], ylim=[0.0,1.05], \n",
        "            xlabel='False Positive Rate', \n",
        "            ylabel=\"True Positive Rate (Recall)\", \n",
        "            title=\"Receiver operating characteristic\")\n",
        "  ax[0].legend(loc=\"lower right\")\n",
        "  ax[0].grid(True)\n",
        "\n",
        "  ## Plot precision-recall curve\n",
        "  for i in range(len(classes)):\n",
        "    precision, recall, thresholds = skm.precision_recall_curve(\n",
        "                y_test_array[:,i], probs[:,i])\n",
        "    ax[1].plot(recall, precision, lw=3, \n",
        "               label='{0} (area={1:0.2f})'.format(classes[i], \n",
        "                                  skm.auc(recall, precision))\n",
        "              )\n",
        "  ax[1].set(xlim=[0.0,1.05], ylim=[0.0,1.05], xlabel='Recall', \n",
        "            ylabel=\"Precision\", title=\"Precision-Recall curve\")\n",
        "  ax[1].legend(loc=\"best\")\n",
        "  ax[1].grid(True)\n",
        "  plt.show()\n",
        "  #plt.savefig('/content/drive/MyDrive/NLP/Depression_Detection/modeling/ROC_Precision_LR.png')\n",
        "  #plt.savefig('/content/drive/MyDrive/NLP/Depression_Detection/modeling/ROC_Precision_SVM.png')  \n",
        "  ## AUC score\n",
        "  print(f'AUC score is : {skm.roc_auc_score(Y_test, probs[:,1])}')"
      ],
      "execution_count": null,
      "outputs": []
    },
    {
      "cell_type": "markdown",
      "metadata": {
        "id": "C-alyEwrIF-8"
      },
      "source": [
        "## Support Vector Machine(SVM) with word embedding:"
      ]
    },
    {
      "cell_type": "code",
      "metadata": {
        "id": "826_WFaMIvsU"
      },
      "source": [
        "nlp = en_core_web_lg.load()"
      ],
      "execution_count": null,
      "outputs": []
    },
    {
      "cell_type": "code",
      "metadata": {
        "id": "SxoHGaSgIwlZ"
      },
      "source": [
        "## word-embedding\n",
        "all_vectors = pd.np.array([pd.np.array([token.vector for token in nlp(s)]).mean(axis=0) * pd.np.ones((300)) \\\n",
        "                           for s in df_all['clean_text']])"
      ],
      "execution_count": null,
      "outputs": []
    },
    {
      "cell_type": "code",
      "metadata": {
        "id": "ddO28-MEI41Y"
      },
      "source": [
        "# split out validation dataset for the end\n",
        "Y= df_all[\"label\"]\n",
        "X = all_vectors\n",
        "\n",
        "from sklearn.model_selection import train_test_split, KFold, cross_val_score, GridSearchCV\n",
        "validation_size = 0.3\n",
        "seed = 7\n",
        "X_train, X_test, Y_train, Y_test = train_test_split(X, Y, test_size=validation_size, random_state=seed)\n",
        "\n",
        "# test options for classification\n",
        "num_folds = 10\n",
        "seed = 7\n",
        "scoring = 'accuracy'"
      ],
      "execution_count": null,
      "outputs": []
    },
    {
      "cell_type": "code",
      "metadata": {
        "id": "VXFxwVJxKYgM"
      },
      "source": [
        "#Create a svm Classifier\n",
        "clf = SVC(probability=True) "
      ],
      "execution_count": null,
      "outputs": []
    },
    {
      "cell_type": "code",
      "metadata": {
        "id": "-sjKJGdVKvvP"
      },
      "source": [
        "## Running the svm Classifier\n",
        "   \n",
        "# Full Training period\n",
        "res = clf.fit(X_train, Y_train)\n",
        "train_result = accuracy_score(res.predict(X_train), Y_train)\n",
        "test_result = accuracy_score(res.predict(X_test), Y_test)"
      ],
      "execution_count": null,
      "outputs": []
    },
    {
      "cell_type": "code",
      "metadata": {
        "colab": {
          "base_uri": "https://localhost:8080/"
        },
        "id": "dzMcEiqRHO_b",
        "outputId": "4c4dbe0f-bbfc-4079-d880-ab59ba9f64d7"
      },
      "source": [
        "print(\"train_result:\", \"test_resuld:\", train_result, test_result, sep=\" \")"
      ],
      "execution_count": null,
      "outputs": [
        {
          "output_type": "stream",
          "name": "stdout",
          "text": [
            "train_result: test_resuld: 0.8922749302393891 0.8630172192238499\n"
          ]
        }
      ]
    },
    {
      "cell_type": "code",
      "metadata": {
        "id": "MVY5_ME6aK3B"
      },
      "source": [
        "## Save the Modle to file in the current working directory\n",
        "SVM = \"/content/drive/MyDrive/NLP/Depression_Detection/modeling/model_svm1.pkl\"  \n",
        "\n",
        "with open(SVM, 'wb') as file:  \n",
        "    pickle.dump(clf, file)"
      ],
      "execution_count": null,
      "outputs": []
    },
    {
      "cell_type": "code",
      "metadata": {
        "colab": {
          "base_uri": "https://localhost:8080/"
        },
        "id": "qhrl7r6Oa6CA",
        "outputId": "3c4ef54d-7492-49da-f8ed-d997ac914204"
      },
      "source": [
        "## Load the Model back from file\n",
        "with open(SVM, 'rb') as file:  \n",
        "    clf = pickle.load(file)\n",
        "\n",
        "clf"
      ],
      "execution_count": null,
      "outputs": [
        {
          "output_type": "execute_result",
          "data": {
            "text/plain": [
              "SVC(probability=True)"
            ]
          },
          "metadata": {},
          "execution_count": 19
        }
      ]
    },
    {
      "cell_type": "code",
      "metadata": {
        "colab": {
          "base_uri": "https://localhost:8080/",
          "height": 1000
        },
        "id": "qTeeI-nsVk4H",
        "outputId": "2d07b389-e8a0-4c60-e306-0e8f1b61296f"
      },
      "source": [
        "## Test results\n",
        "## \n",
        "y_pred_svm = res.predict(X_test) \n",
        "classes = np.unique(Y_test.to_list())\n",
        "y_test_array = pd.get_dummies(Y_test, drop_first=False).values\n",
        "probs = res.predict_proba(X_test)\n",
        "conf_matrix_acc(Y_test.to_list(),y_pred_svm)\n",
        "roc_precision_auc()"
      ],
      "execution_count": null,
      "outputs": [
        {
          "output_type": "stream",
          "name": "stdout",
          "text": [
            "=========================================\n",
            "Accuracy score is : 0.8630172192238499\n",
            "=========================================\n",
            "Detail:\n",
            "              precision    recall  f1-score   support\n",
            "\n",
            "           0       0.86      0.89      0.87      6269\n",
            "           1       0.86      0.84      0.85      5404\n",
            "\n",
            "    accuracy                           0.86     11673\n",
            "   macro avg       0.86      0.86      0.86     11673\n",
            "weighted avg       0.86      0.86      0.86     11673\n",
            "\n"
          ]
        },
        {
          "output_type": "display_data",
          "data": {
            "image/png": "[encoded data removed]",
            "text/plain": [
              "<Figure size 576x396 with 1 Axes>"
            ]
          },
          "metadata": {}
        },
        {
          "output_type": "display_data",
          "data": {
            "image/png": "[encoded data removed]",
            "text/plain": [
              "<Figure size 576x396 with 2 Axes>"
            ]
          },
          "metadata": {}
        },
        {
          "output_type": "stream",
          "name": "stdout",
          "text": [
            "AUC score is : 0.9365111408468516\n"
          ]
        },
        {
          "output_type": "display_data",
          "data": {
            "text/plain": [
              "<Figure size 576x396 with 0 Axes>"
            ]
          },
          "metadata": {}
        }
      ]
    },
    {
      "cell_type": "markdown",
      "metadata": {
        "id": "iAnrSn8p94nt"
      },
      "source": [
        "## Exploring False positive and False negative:"
      ]
    },
    {
      "cell_type": "code",
      "metadata": {
        "id": "dlhGPlQU-UI8"
      },
      "source": [
        "## creating lists of true values and predictions\n",
        "y_test_1 = [x for x in y_test]\n",
        "y_pred_lr_1 = [x for x in y_pred_lr]"
      ],
      "execution_count": null,
      "outputs": []
    },
    {
      "cell_type": "code",
      "metadata": {
        "id": "_mKoT4-rW4zh"
      },
      "source": [
        "## Find the indices of wrong predictions\n",
        "idx = [] \n",
        "for i in range(len(y_test_1)):\n",
        "  if y_test_1[i] != y_pred_lr_1[i]:\n",
        "    idx.append(i)\n",
        "    i+=1"
      ],
      "execution_count": null,
      "outputs": []
    },
    {
      "cell_type": "code",
      "metadata": {
        "colab": {
          "base_uri": "https://localhost:8080/"
        },
        "id": "wTNAbHji6dlh",
        "outputId": "67c20371-d856-4290-c240-7d2597497c03"
      },
      "source": [
        "print('There are\", {} \"wrong preditions\", len(idx))"
      ],
      "execution_count": null,
      "outputs": [
        {
          "data": {
            "text/plain": [
              "1157"
            ]
          },
          "execution_count": 62,
          "metadata": {},
          "output_type": "execute_result"
        }
      ]
    },
    {
      "cell_type": "code",
      "metadata": {
        "id": "mmziG8ijf_aw"
      },
      "source": [
        "wrong_arr = cv.inverse_transform(X_test_tfidf[idx])"
      ],
      "execution_count": null,
      "outputs": []
    },
    {
      "cell_type": "code",
      "metadata": {
        "id": "J9Gn8nhcDixY"
      },
      "source": [
        "## detokenize the wrong array\n",
        "detokenized = [TreebankWordDetokenizer().detokenize(x) for x in wrong_arr]"
      ],
      "execution_count": null,
      "outputs": []
    },
    {
      "cell_type": "code",
      "metadata": {
        "colab": {
          "base_uri": "https://localhost:8080/"
        },
        "id": "ocafKjvuEUFb",
        "outputId": "0476d5f3-5c02-4b4c-f0ad-754c462869ed"
      },
      "source": [
        "detokenized[:50]"
      ],
      "execution_count": null,
      "outputs": [
        {
          "data": {
            "text/plain": [
              "['year paradox mood meet man later hospital dream cope bum bite',\n",
              " 'one in headache give',\n",
              " 'job',\n",
              " 'walk visit use train station stair ride rainy perfect new mood month home explore exercise dark cold bus boosting antidote',\n",
              " 'thomas stronger stain rob one let left know good go every day',\n",
              " 'yupp using put hi hacked ashwin account abt',\n",
              " 'shadow love healed ford embraced debbie becomes',\n",
              " 'story short make long like difference',\n",
              " 'text start side seen guy chick argument',\n",
              " 'handle',\n",
              " 'thought seeya',\n",
              " 'stay positive jess',\n",
              " 'take seriously ppl missing man lot laugh hilarity happy',\n",
              " 'tea one made friend day brought',\n",
              " 'year plus',\n",
              " 'yawn tired heading daddy bed',\n",
              " 'story life heatherbailey',\n",
              " 'wan rich na live life famous coz',\n",
              " 'would tila talk like know guess difficult choose child',\n",
              " 'wanted loved love joy desired',\n",
              " 'yurina sorry saying im',\n",
              " 'wow quote pretty never life fwd end email dumb deep begin afraid',\n",
              " 'without story reason always act',\n",
              " 'fails else',\n",
              " 'work wannamusic mf listen ear dont atm',\n",
              " 'tomorrow til support society show morning life come cancer american 2pm',\n",
              " 'thought',\n",
              " 'talk night ever best',\n",
              " 'pe',\n",
              " 'vintage try streaming river rat prime movie many key channel',\n",
              " 'would sale mel love detail choc certain ask also',\n",
              " 'week prepare ahead',\n",
              " 'welcome old friend back',\n",
              " 'time take shut level everything disconnecting better beat available 24',\n",
              " 'train time thinking stop smiling ran icant especially',\n",
              " 'ta got',\n",
              " 'week turned thursday roll positive increase fold feeling corner coming 10',\n",
              " 'miss idol',\n",
              " 'person may hehehe deserve day call',\n",
              " 'one check',\n",
              " 'true queen positive person friend became absolutely',\n",
              " 'thought ok jackie im going figured ask',\n",
              " 'run done day',\n",
              " 'season corral collapse',\n",
              " 'wisely pick people inspire either drain',\n",
              " 'work well week time starting random nanowrimo holiday hello episode depressive busiest',\n",
              " 'would thought see never made kyle happen got carson believe back',\n",
              " 'cant canceled believe',\n",
              " 'story possibly listen hear crappy cousin blank bizarre anyway always',\n",
              " 'way see everything awe']"
            ]
          },
          "execution_count": 77,
          "metadata": {},
          "output_type": "execute_result"
        }
      ]
    },
    {
      "cell_type": "markdown",
      "metadata": {
        "id": "S7E4MBH-HZKs"
      },
      "source": [
        "There is no specific patterns between false positive and false negative predictions."
      ]
    }
  ]
}